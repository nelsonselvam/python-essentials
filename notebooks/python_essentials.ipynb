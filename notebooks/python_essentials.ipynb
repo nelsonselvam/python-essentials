{
 "cells": [
  {
   "cell_type": "markdown",
   "id": "0965b843",
   "metadata": {},
   "source": [
    "# PYTHON ESSENTIALS\n",
    "\n",
    "Credits : Cisco Skills for All - Python Essentials 1 & 2 Courses\n",
    "<br>\n",
    "<li> <a href=https://skillsforall.com/course/python-essentials-1/> Python Essentials 1 </a></li>\n",
    "<li> <a href=https://skillsforall.com/course/python-essentials-2/> Python Essentials 2 </a>"
   ]
  },
  {
   "cell_type": "markdown",
   "id": "a32d87e8",
   "metadata": {},
   "source": [
    "### HELLO WORLD!"
   ]
  },
  {
   "cell_type": "code",
   "execution_count": 1,
   "id": "e3f47be3",
   "metadata": {},
   "outputs": [
    {
     "name": "stdout",
     "output_type": "stream",
     "text": [
      "Hello, World!\n"
     ]
    }
   ],
   "source": [
    "# The first step in every programming language is the Hello, World! program. \n",
    "# In Python, it's just a one-liner that calls the print() function.\n",
    "# print -> function keyword, add paranthesis () to qualify this as a function\n",
    "# whatever goes within the function are arguments\n",
    "# a function can take any number of arguments from zero to any number\n",
    "\n",
    "print(\"Hello, World!\")"
   ]
  },
  {
   "cell_type": "code",
   "execution_count": 2,
   "id": "0ffaf3a3",
   "metadata": {},
   "outputs": [
    {
     "name": "stdout",
     "output_type": "stream",
     "text": [
      "Jack and Jill climbed up the hill to fetch a pail of water\n"
     ]
    }
   ],
   "source": [
    "# print function with multiple arguments\n",
    "print(\"Jack and Jill\", \"climbed up the hill\", \"to fetch a pail of water\")"
   ]
  },
  {
   "cell_type": "markdown",
   "id": "45da2009",
   "metadata": {},
   "source": [
    "### KEYWORD ARGUMENTS\n",
    "\n",
    "<br>\n",
    "<li> Keyword Arguments (<b>kwargs</b>) - Python offers another mechanism for the passing of arguments, which can be helpful when you want to convince the print() function to change its behavior a bit. The name stems from the fact that the meaning of these arguments is taken not from its location (position) but from the special word (keyword) used to identify them. <br>\n",
    "<li> The print() function has two kwargs - <b>'sep'</b> and <b>'end'</b>.\n",
    "<li> <b>Any keyword arguments have to be put after the last positional argument (this is very important).</b>\n",
    "<li> In the below case, all arguments passed before 'sep' are POSITIONAL ARGUMENTS.\n"
   ]
  },
  {
   "cell_type": "code",
   "execution_count": 3,
   "id": "10b7b237",
   "metadata": {
    "scrolled": true
   },
   "outputs": [
    {
     "name": "stdout",
     "output_type": "stream",
     "text": [
      "This-is-seperated-by-dashes\n",
      "and will end with a .\n",
      "Below is a blank line - print function prints a new line when no args get passed to it\n",
      "\n",
      "Above is a blank line - print function prints a new line when no args get passed to it\n"
     ]
    }
   ],
   "source": [
    "\n",
    "print(\"This\",\"is\",\"seperated\",\"by\",\"dashes\",sep = \"-\") \n",
    "#print(\"and will end with a \", end=\".\") # this will not add a new line for printing the subsequent print() statements.\n",
    "print(\"and will end with a \", end=\".\\n\")\n",
    "print(\"Below is a blank line - print function prints a new line when no args get passed to it\")\n",
    "print()\n",
    "print(\"Above is a blank line - print function prints a new line when no args get passed to it\")"
   ]
  },
  {
   "cell_type": "markdown",
   "id": "10374c27",
   "metadata": {},
   "source": [
    "### REPRESENTING LITERALS\n",
    "\n",
    "<ol> <li> Literals are notations for representing some fixed values in code. Python has various types of literals - for example, a literal can be a number (numeric literals, e.g., 123), or a string (string literals, e.g., \"I am a literal.\"). \n",
    "    <li>  The binary system is a system of numbers that employs 2 as the base. Therefore, a binary number is made up of 0s and 1s only, e.g., 1010 is 10 in decimal. Octal and hexadecimal numeration systems, similarly, employ 8 and 16 as their bases respectively. The hexadecimal system uses the decimal numbers and six extra letters. \n",
    "    <li> Integers (or simply ints) are one of the numerical types supported by Python.  They are numbers written without a fractional component, e.g., 256, or -1 (negative integers). \n",
    "    <li> Floating-point numbers (or simply floats) are another one of the numerical types supported by Python.  They are numbers that contain (or are able to contain) a fractional component, e.g., 1.27. \n",
    "    <li> To encode an apostrophe or a quote inside a string, you can either use the escape character, e.g., 'I\\'m happy.', or open and close the string using an opposite set of symbols to the ones you wish to encode, e.g., \"I'm happy.\"  to encode an apostrophe, and 'He said \"Python\", not \"typhoon\"' to encode a (double) quote. \n",
    "    <li> Boolean values are the two constant objects True and False used to represent truth values (in numeric contexts 1 is True, while 0 is False).\n",
    "        </ol>"
   ]
  },
  {
   "cell_type": "code",
   "execution_count": 4,
   "id": "3414175c",
   "metadata": {},
   "outputs": [
    {
     "name": "stdout",
     "output_type": "stream",
     "text": [
      "1111111\n",
      "-1111111\n",
      "83\n",
      "291\n",
      "-0.4\n",
      "4\n",
      "4.0\n",
      "300000000.0\n",
      "7e-22\n"
     ]
    }
   ],
   "source": [
    "# literals - datat whose values are determined by the literal itself.\n",
    "\n",
    "# integers\n",
    "print(1_111_111)  # use underscores to improve readability of large numbers\n",
    "print(-1_111_111)\n",
    "\n",
    "# octal & hexa decimal numbers\n",
    "print(0o123) #octals\n",
    "print(0x123) # hexadecimal\n",
    "\n",
    "# floats\n",
    "print(-0.4)  # the dot is what qualifies this to be a float\n",
    "print(4)     # this is an integer\n",
    "print(4.0)   # this is a float\n",
    "\n",
    "# Also the letter 'e' or 'E' can be used\n",
    "print(3e8)\n",
    "print(0.0000000000000000000007)"
   ]
  },
  {
   "cell_type": "markdown",
   "id": "6e7a8b71",
   "metadata": {},
   "source": [
    "### REPRESENTING STRINGS"
   ]
  },
  {
   "cell_type": "code",
   "execution_count": 5,
   "id": "bcf305fa",
   "metadata": {},
   "outputs": [
    {
     "name": "stdout",
     "output_type": "stream",
     "text": [
      "Representing Strings\n",
      "\n",
      "I like \"Monty Python\"\n",
      "\n",
      "I like \"Monty Python\"\n"
     ]
    }
   ],
   "source": [
    "print(\"Representing Strings\\n\")\n",
    "\n",
    "#escaping double quotes\n",
    "print(\"I like \\\"Monty Python\\\"\") # escape using the backslash character.\n",
    "print()\n",
    "print('I like \"Monty Python\"')  # if the string has double quotes, use the string within single quotes."
   ]
  },
  {
   "cell_type": "markdown",
   "id": "ff370ea8",
   "metadata": {},
   "source": [
    "### REPRESENTING BOOLEAN"
   ]
  },
  {
   "cell_type": "code",
   "execution_count": 6,
   "id": "cbf73117",
   "metadata": {},
   "outputs": [
    {
     "name": "stdout",
     "output_type": "stream",
     "text": [
      "True\n",
      "True\n",
      "False\n",
      "6\n",
      "0\n"
     ]
    }
   ],
   "source": [
    "# keywords are 'True' and 'False' (case sensitive) \n",
    "# True is type casted to 1 and False to 0 when working with numbers\n",
    "\n",
    "print(1==1)\n",
    "\n",
    "print(True > False) # equal to 1 > 0\n",
    "print(True < False)\n",
    "\n",
    "print(7-True)       # equal to 7 - 1     \n",
    "print(0-False)"
   ]
  },
  {
   "cell_type": "markdown",
   "id": "6be0ccbf",
   "metadata": {},
   "source": [
    "### OPERATORS - DATA MANIPULATION\n",
    "\n",
    "_1. An expression is a combination of values (or variables, operators, calls to functions )  which evaluates to a certain value, e.g., 1 + 2._\n",
    "\n",
    "_2. Operators are special symbols or keywords which are able to operate on the values and perform (mathematical) operations, e.g., the * operator multiplies two values: x * y._\n",
    "\n",
    "_3. Arithmetic operators in Python: \n",
    "    + (addition),\n",
    "    - (subtraction),\n",
    "    * (multiplication), \n",
    "    / (classic division ‒ always returns a float), \n",
    "    % (modulus ‒ divides left operand by right operand and returns the remainder of the operation, e.g., 5 % 2 = 1), \n",
    "    ** (exponentiation ‒ left operand raised to the power of right operand, e.g., 2 ** 3 = 2 * 2 * 2 = 8), \n",
    "    // (floor/integer division ‒ returns a number resulting from division, but rounded down to the nearest whole number, e.g., 3 // 2.0 = 1.0)_\n",
    "\n",
    "_4. A unary operator is an operator with only one operand, e.g., -1, or +3._\n",
    "\n",
    "_5. A binary operator is an operator with two operands, e.g., 4 + 5, or 12 % 5._\n",
    "\n",
    "_6. Some operators act before others - the hierarchy of priorities:\n",
    "    the ** operator (exponentiation) has the highest priority;\n",
    "    then the unary + and - (note: a unary operator to the right of the exponentiation operator binds more strongly,\n",
    "    for example 4 ** -1 equals 0.25)\n",
    "    then: *, /, and %,\n",
    "    and finally, the lowest priority: binary + and -._\n",
    "\n",
    "_7. Subexpressions in parentheses are always calculated first, e.g., 15 - 1 * (5 * (1 + 2)) = 0._\n",
    "\n",
    "_8. The exponentiation operator uses right-sided binding, e.g., 2 ** 2 ** 3 = 256._\n"
   ]
  },
  {
   "cell_type": "code",
   "execution_count": 7,
   "id": "a2a1b44e",
   "metadata": {},
   "outputs": [
    {
     "name": "stdout",
     "output_type": "stream",
     "text": [
      "Result of 9 % 6 % 2 :  1\n",
      "Result of 2 ** 2 ** 3 :  256\n",
      "Result of 2**6 :  64\n",
      "Result of 2+3.0 :  5.0\n",
      "Result of 3-5 :  -2\n",
      "Result of 3*5 :  15\n",
      "Result of 7/3 :  2.3333333333333335\n",
      "Result of 7//3 :  2\n",
      "Result of (5 * ((25 % 13) + 100) / (2 * 13)) // 2 :  10.0\n",
      "Result of 3 * 10E8 :  3000000000.0\n"
     ]
    }
   ],
   "source": [
    "# ARITHMETIC OPERATORS AND THEIR PRECEDENCE: **, Unary (+,-) , * , / , //, %, Binary (+,-_)\n",
    "\n",
    "#if any of the number is float, regardless of the other nuber the result of the operation is a float.\n",
    "print(\"Result of 9 % 6 % 2 : \",9 % 6 % 2) # left sided binding, proceeds from left to right\n",
    "\n",
    "print(\"Result of 2 ** 2 ** 3 : \",2 ** 2 ** 3) \n",
    "# right sided binding, proceeds from right to left i.e. 2 to the power of (2 to the power of 3)\n",
    "\n",
    "print(\"Result of 2**6 : \",2**6) \n",
    "\n",
    "print(\"Result of 2+3.0 : \",2+3.0)  # if any of the operand is a float, the resulting value will also be a float.\n",
    "\n",
    "print(\"Result of 3-5 : \",3-5)\n",
    "print(\"Result of 3*5 : \",3*5)\n",
    "\n",
    "print(\"Result of 7/3 : \",7/3)   # the result is always a float\n",
    "print(\"Result of 7//3 : \",7//3)  # floor division, when it is a negative result, this gets ROUNDED to the LESSER INTEGER\n",
    "\n",
    "# parentheses - In accordance with the arithmetic rules, subexpressions in parentheses are always calculated first.\n",
    "print(\"Result of (5 * ((25 % 13) + 100) / (2 * 13)) // 2 : \",(5 * ((25 % 13) + 100) / (2 * 13)) // 2)\n",
    "\n",
    "# representing exponents\n",
    "print(\"Result of 3 * 10E8 : \",3 * 10E8)"
   ]
  },
  {
   "cell_type": "markdown",
   "id": "5c54e9fd",
   "metadata": {},
   "source": [
    "### LOGICAL OPERATORS"
   ]
  },
  {
   "cell_type": "markdown",
   "id": "1a8e8b51",
   "metadata": {},
   "source": [
    "#### LOGICAL OPERATORS"
   ]
  },
  {
   "cell_type": "code",
   "execution_count": 8,
   "id": "1fef2607",
   "metadata": {},
   "outputs": [
    {
     "name": "stdout",
     "output_type": "stream",
     "text": [
      "a AND b False\n",
      "a OR b True\n",
      "Negation of a is  False\n"
     ]
    }
   ],
   "source": [
    "## and, or, not\n",
    "a = True\n",
    "b = False\n",
    "\n",
    "# and is the CONJUNCTION binary operator\n",
    "print(\"a AND b\",a and b)  \n",
    "# or is the DISJUNCTION binary operator\n",
    "print(\"a OR b\",a or b)   \n",
    "# not is the NEGATION unary operator\n",
    "print(\"Negation of a is \",not a)"
   ]
  },
  {
   "cell_type": "markdown",
   "id": "fce4d430",
   "metadata": {},
   "source": [
    "#### BITWISE OPERATORS\n",
    "- To manipulate single bits of data\n",
    "- Practical use cases: writing algorithms for encryption & video compression\n",
    "- https://stackoverflow.com/questions/2096916/real-world-use-cases-of-bitwise-operators\n",
    "\n",
    "- & (ampersand) ‒ bitwise conjunction;\n",
    "- | (bar) ‒ bitwise disjunction;\n",
    "- ~ (tilde) ‒ bitwise negation;\n",
    "- ^ (caret) ‒ bitwise exclusive or (xor) - requires exactly only one argument to be `1`"
   ]
  },
  {
   "cell_type": "code",
   "execution_count": 9,
   "id": "ac597ee3",
   "metadata": {},
   "outputs": [
    {
     "name": "stdout",
     "output_type": "stream",
     "text": [
      "17 8 68\n"
     ]
    }
   ],
   "source": [
    "## Binary Left and Right Shift\n",
    "## >> right shift is dividing by 2 to the power of the integer on the right\n",
    "## << left shift is multiplying by 2 to the power of the integer on the left\n",
    "\n",
    "var = 17\n",
    "var_right = var >> 1 ## right shift is floor division by 2 to the power of 1 i.e. 17 // 2\n",
    "var_left = var << 2  ## left shift is multiply by 2 to the power of 2 i.e. 17 * 4   \n",
    "print(var, var_right, var_left) "
   ]
  },
  {
   "cell_type": "markdown",
   "id": "3fbd7789",
   "metadata": {},
   "source": [
    "### VARIABLES\n",
    "\n",
    "A variable is a named location reserved to store values in the memory. \n",
    "A variable is created or initialized automatically when you assign a value to it for the first time. (2.1.4.1)\n",
    "\n",
    "Each variable must have a unique name ‒ an identifier. \n",
    "A legal identifier name must be a non-empty sequence of characters, must begin with the underscore(_), \n",
    "or a letter, and it cannot be a Python keyword. The first character may be followed by underscores, \n",
    "letters, and digits. Identifiers in Python are case-sensitive.\n",
    "\n",
    "Python is a dynamically-typed language, which means you don't need to declare variables in it. \n",
    "(2.1.4.3) To assign values to variables, you can use a simple assignment operator in the form of the equal (=) sign,\n",
    "i.e., var = 1.\n",
    "\n",
    "You can also use compound assignment operators (shortcut operators) to modify values assigned to variables, \n",
    "for example: var += 1, or var /= 5 * 2.\n"
   ]
  },
  {
   "cell_type": "code",
   "execution_count": 10,
   "id": "c9955ccb",
   "metadata": {},
   "outputs": [
    {
     "name": "stdout",
     "output_type": "stream",
     "text": [
      "Total apple(s): 11\n"
     ]
    }
   ],
   "source": [
    "apples_john=3\n",
    "apples_mary=5\n",
    "apples_adam=3\n",
    "\n",
    "total_apples =  apples_john + apples_mary + apples_adam\n",
    "\n",
    "print(\"Total apple(s):\" , total_apples)"
   ]
  },
  {
   "cell_type": "code",
   "execution_count": 11,
   "id": "c141f8e3",
   "metadata": {},
   "outputs": [
    {
     "name": "stdout",
     "output_type": "stream",
     "text": [
      "11\n",
      "121\n"
     ]
    }
   ],
   "source": [
    "## Shortcut operators\n",
    "# 'variable = variable op expression'  ==> 'variable op= expresion' where 'op' is a two argument operator\n",
    "i = 7\n",
    "j = 2\n",
    "# i = i + 2 * j   -- this expression can be converted to the below shortcut expression\n",
    "i += 2*j\n",
    "print (i)\n",
    "\n",
    "#i = i ** 2\n",
    "i **= 2\n",
    "print(i)\n"
   ]
  },
  {
   "cell_type": "markdown",
   "id": "43bf6495",
   "metadata": {},
   "source": [
    "### INTERACTING WITH THE USER - _input()_\n",
    "\n",
    "**The result of the input function is always a string** and it can take string as input that gets displayed in the terminal. The input prompt appears when the program is run and waits till it gets an input from the user. This input has to be typecasted for further processing."
   ]
  },
  {
   "cell_type": "code",
   "execution_count": 12,
   "id": "a27af02c",
   "metadata": {},
   "outputs": [
    {
     "name": "stdout",
     "output_type": "stream",
     "text": [
      "It's AMA time!! Post your question.\n",
      "\n"
     ]
    }
   ],
   "source": [
    "print(\"It's AMA time!! Post your question.\\n\")\n",
    "\n",
    "ama_question = input() # ama_question = input(\"It's AMA time!!\")\n",
    "\n",
    "print(\"\\nWell to answer your question on \\'\",ama_question,\"\\' , it is well known......\")"
   ]
  },
  {
   "cell_type": "markdown",
   "id": "d1ee869c",
   "metadata": {},
   "source": [
    "### TYPE CONVERSION"
   ]
  },
  {
   "cell_type": "code",
   "execution_count": null,
   "id": "ab326c62",
   "metadata": {},
   "outputs": [],
   "source": [
    "## TYPE CONVERSION\n",
    "\n",
    "# functions available - str(), int(), float()\n",
    "print(True-1.5)  # this automatically converts the result into a float\n",
    "\n",
    "n = int(input(\"\\n Enter a number: \"))\n",
    "print(n-99)"
   ]
  },
  {
   "cell_type": "markdown",
   "id": "dbab9d0d",
   "metadata": {},
   "source": [
    "### CONDITIONALS"
   ]
  },
  {
   "cell_type": "markdown",
   "id": "779a25a4",
   "metadata": {},
   "source": [
    "#### IF-ELIF-ELSE"
   ]
  },
  {
   "cell_type": "code",
   "execution_count": null,
   "id": "01e3b1df",
   "metadata": {},
   "outputs": [],
   "source": [
    "# Read two numbers\n",
    "number1 = int(input(\"Enter the first number: \"))\n",
    "number2 = int(input(\"Enter the second number: \"))\n",
    " \n",
    "# Choose the larger number\n",
    "if number1 > number2:\n",
    "    larger_number = number1\n",
    "else:\n",
    "    larger_number = number2\n",
    " \n",
    "# Print the result\n",
    "print(\"The larger number is:\", larger_number)"
   ]
  },
  {
   "cell_type": "markdown",
   "id": "55efd702",
   "metadata": {},
   "source": [
    "### LOOPS"
   ]
  },
  {
   "cell_type": "markdown",
   "id": "f97b52b4",
   "metadata": {},
   "source": [
    "#### WHILE LOOP"
   ]
  },
  {
   "cell_type": "code",
   "execution_count": null,
   "id": "19868459",
   "metadata": {},
   "outputs": [],
   "source": [
    "i = 5  # pre-initiated counter\n",
    "\n",
    "print(\"\\n--------- while loop with a basic looping condition ---------\")\n",
    "while i<10: # the looping condition\n",
    "    i +=1   # increment\n",
    "    print(\"\\'i' am increasing from...  \"+str(i))\n",
    "\n",
    "# here the value of i has been incremented to 9 by the previous while loop\n",
    "\n",
    "print(\"\\n--------- while loop with an else condition ---------\")\n",
    "print(\"value of i as increased by the previous loop is: \",i)\n",
    "while i < 10: # this condition will fails since i is already increased to 10\n",
    "    print(i)\n",
    "    i += 1\n",
    "else:   # this condition will execute regardless of the while condition\n",
    "    print(\"else:\", i)"
   ]
  },
  {
   "cell_type": "markdown",
   "id": "c58a3d9e",
   "metadata": {},
   "source": [
    "#### FOR LOOP"
   ]
  },
  {
   "cell_type": "code",
   "execution_count": null,
   "id": "3b403b46",
   "metadata": {},
   "outputs": [],
   "source": [
    "## have a counter that counts automatically\n",
    "\n",
    "# range function  - start, stop, increment(optional)\n",
    "\n",
    "for i in range(2,15,4):\n",
    "    print(\"I am incrementing in steps of four -->\", i)\n",
    "\n",
    "print()\n",
    "\n",
    "for i in range(2,5): # '2' is inclusive and '5' is exclusive\n",
    "    print(\"I am incrementing in steps of one -->\", i)"
   ]
  },
  {
   "cell_type": "code",
   "execution_count": null,
   "id": "bd94659b",
   "metadata": {},
   "outputs": [],
   "source": [
    "# for loop with an else condition\n",
    "for i in \"iterable_object\":\n",
    "    print(i)\n",
    "else:\n",
    "    \n",
    "    print(\"\\n within else part of foor loop: \",i, \"else\")"
   ]
  },
  {
   "cell_type": "markdown",
   "id": "ecac2b25",
   "metadata": {},
   "source": [
    "#### BREAK AND CONTINUE"
   ]
  },
  {
   "cell_type": "code",
   "execution_count": null,
   "id": "0bd5a9e9",
   "metadata": {},
   "outputs": [],
   "source": [
    "## BREAK AND CONTINUE - Syntactic Candy or Sugar - No performance improvements but simplify the work\n",
    "\n",
    "for i in range(10):\n",
    "    if i==5:\n",
    "        break   # breaks the current execution so that the loop itself is exited\n",
    "    print(\"Inside the loop \",i)\n",
    "print(\"Outside the loop\")\n",
    "\n",
    "print()\n",
    "\n",
    "for i in range(10):\n",
    "    if i==3:\n",
    "        continue # do not do anything for this condition, but continue the execution with the rest of the looping\n",
    "    print(\"Inside the loop\",i)\n",
    "print(\"Outside the loop\")"
   ]
  },
  {
   "cell_type": "code",
   "execution_count": null,
   "id": "fce3fc91",
   "metadata": {},
   "outputs": [],
   "source": [
    "\"\"\"\n",
    "Your task here is very special: you must design a vowel eater! Write a program that uses:\n",
    "\n",
    "a for loop;\n",
    "the concept of conditional execution (if-elif-else)\n",
    "the continue statement.\n",
    "Your program must:\n",
    "\n",
    "ask the user to enter a word;\n",
    "use user_word = user_word.upper() to convert the word entered by the user to upper case; \n",
    "use conditional execution and the continue statement to \"eat\" the following vowels A, E, I, O, U from the inputted word;\n",
    "print the uneaten letters to the screen, each one of them on a separate line.\n",
    "\n",
    "\"\"\"\n",
    "user_word = input(\"Enter a word to eat the vowels or enter X to exit\")\n",
    "\n",
    "for word in user_word.upper():\n",
    "    if word in ['A','E','I','O','U']:\n",
    "        continue\n",
    "    else:\n",
    "        print(word)"
   ]
  },
  {
   "cell_type": "markdown",
   "id": "1b78d5b4",
   "metadata": {},
   "source": [
    "### DATA STRUCTURES"
   ]
  },
  {
   "cell_type": "markdown",
   "id": "337d0e1f",
   "metadata": {},
   "source": [
    "#### LISTS"
   ]
  },
  {
   "cell_type": "markdown",
   "id": "87af25d7",
   "metadata": {},
   "source": [
    "##### basic representation & operations"
   ]
  },
  {
   "cell_type": "code",
   "execution_count": null,
   "id": "c0e211ff",
   "metadata": {},
   "outputs": [],
   "source": [
    "\"\"\"\n",
    "----------------------------------------------------------------\n",
    "                        Jargons\n",
    "----------------------------------------------------------------\n",
    "1. Index & Indexing\n",
    "2. Slicing\n",
    "3. Nesting\n",
    "4. Functions\n",
    "5. Methods\n",
    "\n",
    "\"\"\"\n",
    "\n",
    "## index is always '0'\n",
    "## square brackets indicate lists\n",
    "\n",
    "sample_list=[]\n",
    "\n",
    "for i in range(7):\n",
    "    sample_list.append(i)\n",
    "    \n",
    "print(\"initial list: \",sample_list)\n",
    "\n",
    "# indexing a list\n",
    "sample_list[2]= 'Two'  # indexing the list at position 2 to \n",
    "\n",
    "print(\"list element at position 2 -->\",sample_list[2]) # accesing the list's element at position 2\n",
    "\n",
    "\"\"\"\n",
    " accesing the list's element at position -1 which is the first element from the last\n",
    " the numbering goes backwards from last element to the first element\n",
    "\"\"\"\n",
    "\n",
    "print(\"list element at position -1 i.e the last element -->\",sample_list[-1]) \n",
    "\n",
    "# printing the length of the list\n",
    "print(\"length of the list: \", len(sample_list))\n",
    "\n",
    "# adding elements to the list : using append() & insert()\n",
    "# append() - adds elements to the end of the list\n",
    "sample_list.append(\"appended element\") # appending a number to the list\n",
    "sample_list.append(['nested list element 1', 'nested list element 2']) # appending another list to the list, this gives a nested list\n",
    "\n",
    "# inserting the elements : positional insertion\n",
    "sample_list.insert(5,\"inserted element at position 5\")  # insert(location, value)\n",
    "\n",
    "print(sample_list)\n",
    "\n",
    "# deleting the elements : positional deletion\n",
    "del sample_list[-1]\n",
    "\n",
    "# del sample_list[1:3] # deletes the range of elements specified by the range\n",
    "# del sample_list[:]   # deletes the entire range of elements & empties the list\n",
    "# del sample_list      # deletes the entire list\n",
    "\n",
    "print(sample_list)"
   ]
  },
  {
   "cell_type": "markdown",
   "id": "4547a918",
   "metadata": {},
   "source": [
    "##### iterating lists"
   ]
  },
  {
   "cell_type": "code",
   "execution_count": null,
   "id": "3b495276",
   "metadata": {},
   "outputs": [],
   "source": [
    "## looping through a list\n",
    "\n",
    "even_numbers = [2,4,6,8,10]\n",
    "\n",
    "total = 0\n",
    "\n",
    "for i in even_numbers:\n",
    "    total += i\n",
    "    \n",
    "print(total)\n",
    "\n",
    "## swapping elements in a list and achieving reverse order\n",
    "\n",
    "test_list = [4,5,6,7]\n",
    "\n",
    "print(\"actual list   -->\", test_list)\n",
    "\n",
    "test_list[0],test_list[3] = test_list[3],test_list[0]  # this swapping is without an auxiliary or temporary variable\n",
    "test_list[1],test_list[2] = test_list[2],test_list[1]\n",
    "\n",
    "print(\"reversed list -->\", test_list)"
   ]
  },
  {
   "cell_type": "markdown",
   "id": "7db5dc84",
   "metadata": {},
   "source": [
    "##### slicing lists"
   ]
  },
  {
   "cell_type": "code",
   "execution_count": null,
   "id": "0ae03e91",
   "metadata": {},
   "outputs": [],
   "source": [
    "## list slicing\n",
    "\n",
    "my_list = [10, 8, 6, 4, 2]\n",
    "\n",
    "print(\"sliced list -->\", my_list[0:4:2]) # list[start:end:length] --> all these three are optional.\n",
    "\n",
    "my_another_list = my_list[:] # this will slice the entire list and CREATE A COPY of the list.\n",
    "\n",
    "# if we want to copy the contents of a list into another list, slicing is the go to option. as list_1 = list_2 assignment\n",
    "# will make the two lists point to same place in memory & any change in either of the lists will get reflected in another.\n",
    "print(\"another list created by slicing -->\",my_another_list)\n",
    "\n",
    "# slicing list[start:end] both 'start' & 'end' are optional, if an unavailable value is specified, an empty list is returned\n",
    "\n",
    "ma_list = my_list   # this will NOT copy the contents of my_list in ma_list rather make both lists point to the same place in memory\n",
    "my_list[2] = \"changed element in list 1\"\n",
    "print(\"my_list -->\" ,my_list)\n",
    "print(\"ma_list -->\" ,ma_list)\n",
    "assert id(my_list) == id(ma_list)  # same ids\n"
   ]
  },
  {
   "cell_type": "code",
   "execution_count": null,
   "id": "e21742da",
   "metadata": {},
   "outputs": [],
   "source": [
    "\"\"\"\n",
    "A method is owned by the data it works for, while a function is owned by the whole code.\n",
    "A method chages the state of the data that it works for.\n",
    "\"\"\"\n",
    "\n",
    "## readymade methods\n",
    "\n",
    "my_list =  [\"03 Taxi Driver\", \"01 Irishman\", \"04 Raging Bull\", \"02 Killers of the flower moon\"]\n",
    "\n",
    "## list sorting \n",
    "my_list.sort()\n",
    "print(\"sorted list -->\", my_list)\n",
    "\n",
    "## list reversing \n",
    "my_list.reverse()\n",
    "print(\"reversed list -->\", my_list)"
   ]
  },
  {
   "cell_type": "code",
   "execution_count": null,
   "id": "bbb5d358",
   "metadata": {},
   "outputs": [],
   "source": [
    "# [sample program] Your task is very simple here: write a program that uses a for loop to \"count mississippily\" to five. \n",
    "# Having counted to five, the program should print to the screen the final message \"Ready or not, here I come!\"\n",
    "\n",
    "import time\n",
    "\n",
    "for i in range(5):\n",
    "    print(i+1,\"Mississippi\")\n",
    "    time.sleep(1)   # sleep for one second\n",
    "print(\"Ready or not, here I come!\")"
   ]
  },
  {
   "cell_type": "markdown",
   "id": "332fe181",
   "metadata": {},
   "source": [
    "##### in and not in operators"
   ]
  },
  {
   "cell_type": "code",
   "execution_count": null,
   "id": "55936a9c",
   "metadata": {},
   "outputs": [],
   "source": [
    "## in and not in operators\n",
    "\n",
    "fruits = ['apple', 'banana', 'peach', 'orange', 'watermelon', 'dragon fruit']\n",
    "\n",
    "print('brocolli' in fruits)\n",
    "\n",
    "print('strawberry' not in fruits)"
   ]
  },
  {
   "cell_type": "markdown",
   "id": "242c1a50",
   "metadata": {},
   "source": [
    "##### list comprehension"
   ]
  },
  {
   "cell_type": "code",
   "execution_count": null,
   "id": "46f170f4",
   "metadata": {},
   "outputs": [],
   "source": [
    "cubes = []\n",
    "\n",
    "for i in range(5):\n",
    "    cubes.append((i+1) ** 3)\n",
    "\n",
    "print(cubes)\n",
    "\n",
    "# the above piece of code can be comprehended as below\n",
    "\n",
    "cubes = [(i+1)**3 for i in range(5)]\n",
    "\n",
    "print(cubes)\n",
    "\n",
    "# list comprehension can also have conditionals\n",
    "\n",
    "cubes = [(i+1)**3 for i in range(5) if (i+1)%2 == 1]\n",
    "\n",
    "print(cubes)"
   ]
  },
  {
   "cell_type": "markdown",
   "id": "17afd25f",
   "metadata": {},
   "source": [
    "##### list dimensionality\n",
    "\n",
    "a 2D list can be used to create matrices which nothing but nested lists"
   ]
  },
  {
   "cell_type": "code",
   "execution_count": null,
   "id": "124cc4cf",
   "metadata": {},
   "outputs": [],
   "source": [
    "tic_tac_toe = [[0 for tic in range(3)] for tac in range(3)]\n",
    "print(tic_tac_toe)\n",
    "\n",
    "# Cube - a three-dimensional array (3x3x3)\n",
    " \n",
    "cube = [[[':(', 'x', 'x'],\n",
    "         [':)', 'x', 'x'],\n",
    "         [':(', 'x', 'x']],\n",
    " \n",
    "        [[':)', 'x', 'x'],\n",
    "         [':(', 'x', 'x'],\n",
    "         [':)', 'x', 'x']],\n",
    " \n",
    "        [[':(', 'x', 'x'],\n",
    "         [':)', 'x', 'x'],\n",
    "         [':)', 'x', 'x']]]\n",
    "\n",
    "print(cube)\n",
    "print(cube)\n",
    "print(cube[0][0][0])  # outputs: ':('\n",
    "print(cube[2][2][0])  # outputs: ':)'"
   ]
  },
  {
   "cell_type": "markdown",
   "id": "c3c77b92",
   "metadata": {},
   "source": [
    "##### list unpacking"
   ]
  },
  {
   "cell_type": "markdown",
   "id": "aebd77b2",
   "metadata": {},
   "source": [
    "#### TUPLES\n",
    "\n",
    "\n",
    "__JARGONS__\n",
    "\n",
    "__1. Sequence Type__\n",
    "_A sequence type is a type of data in Python which is able to store more than one value (or less than one, as a sequence may be empty), and these values can be sequentially (hence the name) browsed, element by element._\n",
    "\n",
    "__2. Mutability__\n",
    "_It is a property of any Python data that describes its readiness to be freely changed during program execution. There are two kinds of Python data: mutable and immutable._\n",
    "\n",
    "A tuple is an __immutable__ sequence type. It can behave like a list, but it can't be modified _in situ_ (in position)."
   ]
  },
  {
   "cell_type": "markdown",
   "id": "5a8ec8e5",
   "metadata": {},
   "source": [
    "##### basic representation & operations"
   ]
  },
  {
   "cell_type": "code",
   "execution_count": null,
   "id": "137b673a",
   "metadata": {},
   "outputs": [],
   "source": [
    "# defining a tuple  - use parenthesis as opposed to brackets for lists\n",
    "my_tuple = ('t','u','p',1,3)\n",
    "tuple_wihout_braces = 't','u','p',1,3\n",
    "\n",
    "one_element_tuple = (1,) # the comma is necessary since it qualifies as a tuple\n",
    "\n",
    "print(my_tuple)\n",
    "print(tuple_wihout_braces)\n",
    "print(one_element_tuple)\n",
    "\n",
    "ma_tuple = my_tuple\n",
    "\n",
    "# my_tuple[0]=9  # this will not work as a tuple is immutable\n",
    "# my_tuple.append(1) # this will not work as a tuple is immutable\n",
    "\n",
    "# creating an empty tuple\n",
    "empty_tuple = ()\n"
   ]
  },
  {
   "cell_type": "markdown",
   "id": "240fe6e4",
   "metadata": {},
   "source": [
    "##### iterating tuples"
   ]
  },
  {
   "cell_type": "code",
   "execution_count": null,
   "id": "b751a850",
   "metadata": {},
   "outputs": [],
   "source": [
    "my_tuple = ('t','u','p',1,3)\n",
    "\n",
    "for i in range(len(my_tuple)-1):\n",
    "    print(my_tuple[i+1])"
   ]
  },
  {
   "cell_type": "markdown",
   "id": "b63020b0",
   "metadata": {},
   "source": [
    "##### slicing tuples"
   ]
  },
  {
   "cell_type": "code",
   "execution_count": null,
   "id": "264f67b6",
   "metadata": {},
   "outputs": [],
   "source": [
    "slice_me = (\"apple\", \"banana\", \"pineapple\", \"orange\", \"pomegranate\")\n",
    "\n",
    "print(slice_me[2:4])"
   ]
  },
  {
   "cell_type": "markdown",
   "id": "cf427034",
   "metadata": {},
   "source": [
    "##### in and not in operators"
   ]
  },
  {
   "cell_type": "code",
   "execution_count": null,
   "id": "528fa751",
   "metadata": {},
   "outputs": [],
   "source": [
    "resolutions = ([1024,768], \"4k\", \"2.5k\", \"480p\")\n",
    "\n",
    "print(\"4k\" in resolutions)"
   ]
  },
  {
   "cell_type": "markdown",
   "id": "7532710a",
   "metadata": {},
   "source": [
    "##### circulating elements in tuples\n",
    "One of the most useful tuple properties is their ability to appear on the left side of the assignment operator. "
   ]
  },
  {
   "cell_type": "code",
   "execution_count": null,
   "id": "0a35cb8b",
   "metadata": {},
   "outputs": [],
   "source": [
    "var = 123\n",
    " \n",
    "t1 = (1, )\n",
    "t2 = (2, )\n",
    "t3 = (3, var)\n",
    " \n",
    "t1, t2, t3 = t2, t3, t1\n",
    " \n",
    "print(t1, t2, t3)"
   ]
  },
  {
   "cell_type": "markdown",
   "id": "132a7674",
   "metadata": {},
   "source": [
    "#### DICTIONARIES\n",
    "\n",
    "A __mutable data structure__ that is not a sequence. The list of pairs is surrounded by curly braces, while the pairs themselves are separated by commas, and the keys and values by colons.\n",
    "\n",
    "`dictionary = {key:value}`"
   ]
  },
  {
   "cell_type": "markdown",
   "id": "b6eb8995",
   "metadata": {},
   "source": [
    "##### basic representation & operations"
   ]
  },
  {
   "cell_type": "code",
   "execution_count": null,
   "id": "2b04648b",
   "metadata": {},
   "outputs": [],
   "source": [
    "some_http_codes = {\n",
    "    404: 'Not Found',\n",
    "    401: 'Unauthorized',\n",
    "    400: 'Bad Request',\n",
    "    403: 'Forbidden',\n",
    "    402: 'Payment Required',\n",
    "    405: 'Method Not Allowed',\n",
    "}\n",
    "\n",
    "print(some_http_codes)\n",
    "\n",
    "empty_dict = {}\n",
    "\n",
    "print(empty_dict, \"is of type\", type(some_http_codes))\n",
    "\n",
    "# defining a dictionary with dict method & a list\n",
    "country_capitals = dict(\n",
    "  [\n",
    "    (\"Germany\", \"Berlin\"),\n",
    "    (\"Canada\", \"Ottawa\"), \n",
    "    (\"England\", \"London\")\n",
    "  ]\n",
    ")\n",
    "\n",
    "print(country_capitals)\n",
    "\n",
    "# defining a dictionary with dict method\n",
    "country_capitals = dict(\n",
    "    Germany= \"Berlin\",\n",
    "    Canada= \"Ottawa\", \n",
    "    England= \"London\"\n",
    ")\n",
    "\n",
    "print(country_capitals)\n"
   ]
  },
  {
   "cell_type": "markdown",
   "id": "0ff109b1",
   "metadata": {},
   "source": [
    "##### iterating dictionaries"
   ]
  },
  {
   "cell_type": "code",
   "execution_count": null,
   "id": "da96c716",
   "metadata": {},
   "outputs": [],
   "source": [
    "country_capitals = {\n",
    "  \"Germany\": \"Berlin\", \n",
    "  \"Canada\": \"Ottawa\", \n",
    "  \"England\": \"London\"\n",
    "}\n",
    "\n",
    "# iterating through the dictionary keys\n",
    "for country in country_capitals.keys():\n",
    "  print(\"country\",\"-->\", country)\n",
    "  \n",
    "# iterating through the dictionary values\n",
    "for capital in country_capitals.values():\n",
    "  print(\"capital\",\"-->\", capital)\n",
    "\n",
    "\n",
    "print()\n",
    "# iterating through the key-value pair\n",
    "for (k,v) in country_capitals.items():\n",
    "  print(v,\"is the capital of\",k,end=\".\\n\")\n",
    "\n",
    "print()\n",
    "# iterating with a single variable\n",
    "for key in country_capitals:\n",
    "  value = country_capitals[key]\n",
    "  print(value,\"is the capital of\",key,end=\".\\n\")"
   ]
  },
  {
   "cell_type": "markdown",
   "id": "b6660481",
   "metadata": {},
   "source": [
    "##### modifying dictionaries"
   ]
  },
  {
   "cell_type": "code",
   "execution_count": null,
   "id": "9d8abf06",
   "metadata": {},
   "outputs": [],
   "source": [
    "dictionary = {\"cat\": \"chat\", \"dog\": \"chien\", \"horse\": \"cheval\"}\n",
    "\n",
    "# updating the value of the dictionary\n",
    "dictionary[\"cat\"] = \"poonai\"\n",
    "\n",
    "# adding a new value to the dictionary\n",
    "dictionary['swan'] = 'cygne'\n",
    "# or\n",
    "dictionary.update({\"duck\": \"canard\"})\n",
    "\n",
    "print(dictionary)\n",
    "\n",
    "# removing the key-value pair from the dictionary\n",
    "del dictionary[\"duck\"]\n",
    "print(dictionary)\n",
    "\n",
    "# copying a dictionary to another dictionary\n",
    "copied_dictionary = dictionary.copy()\n",
    "\n",
    "print(\"copied dictionary\",copied_dictionary)\n",
    "\n",
    "# removing the last key-value pair from the dictionary\n",
    "dictionary.popitem()\n",
    "\n",
    "# removing all the entries from the dictionary\n",
    "dictionary.clear()\n",
    "\n",
    "print(dictionary)"
   ]
  },
  {
   "cell_type": "markdown",
   "id": "a5ffecc1",
   "metadata": {},
   "source": [
    "##### in and not in operators"
   ]
  },
  {
   "cell_type": "code",
   "execution_count": null,
   "id": "a72ff25b",
   "metadata": {},
   "outputs": [],
   "source": [
    "if \"swan\" in dictionary.keys():\n",
    "    print(True)\n",
    "else:\n",
    "    print(False)"
   ]
  },
  {
   "cell_type": "markdown",
   "id": "cb5615c5",
   "metadata": {},
   "source": [
    "##### unpacking dictionaries"
   ]
  },
  {
   "cell_type": "code",
   "execution_count": null,
   "id": "eb5a5df4",
   "metadata": {},
   "outputs": [],
   "source": [
    "import requests\n",
    "\n",
    "\n",
    "request_arguments = {\n",
    "    'url': 'https://jsonplaceholder.typicode.com/todos/1',\n",
    "    'data': {\"userId\": 1, \"title\": \"Buy milk\", \"completed\": False},\n",
    "}\n",
    "\n",
    "print(request_arguments['data'])\n",
    "\n",
    "response = requests.post(**request_arguments)\n",
    "print(response)\n",
    "\n",
    "\n",
    "# this works without unpacking\n",
    "api_url = \"https://jsonplaceholder.typicode.com/todos\"\n",
    "todo = {\"userId\": 1, \"title\": \"Buy milk\", \"completed\": False}\n",
    "response = requests.post(api_url, json=todo)\n",
    "response.json()\n"
   ]
  },
  {
   "cell_type": "markdown",
   "id": "bfab7389",
   "metadata": {},
   "source": [
    "##### dictionary comprehension\n",
    "https://code-specialist.com/python/dictionary-tricks-python"
   ]
  },
  {
   "cell_type": "code",
   "execution_count": null,
   "id": "5f9d8103",
   "metadata": {},
   "outputs": [],
   "source": [
    "squared_values = {n: n**2 for n in range(5)}\n",
    "\n",
    "assert squared_values == {\n",
    "  0: 0, \n",
    "  1: 1, \n",
    "  2: 4, \n",
    "  3: 9, \n",
    "  4: 16,\n",
    "}"
   ]
  },
  {
   "cell_type": "markdown",
   "id": "7e4179b7",
   "metadata": {},
   "source": [
    "### FUNCTIONS\n",
    "\n",
    "A function is a block of code that performs a specific task when the function is called (invoked).You can use functions to make your code reusable, better organized, and more readable.\n",
    "\n",
    "Types of functions:\n",
    "1. Built-in functions\n",
    "2. Functions from pre-installed modules\n",
    "3. User-defined functions\n",
    "4. Lambda functions\n",
    "\n",
    "```\n",
    "def your_function(optional parameters):\n",
    "    # the body of the function\n",
    "```"
   ]
  },
  {
   "cell_type": "markdown",
   "id": "1aca96f6",
   "metadata": {},
   "source": [
    "##### defining and invoking functions"
   ]
  },
  {
   "cell_type": "code",
   "execution_count": null,
   "id": "98a4a7eb",
   "metadata": {},
   "outputs": [],
   "source": [
    "# defining the function\n",
    "def my_function():\n",
    "    print(\"Hello! function\")\n",
    "\n",
    "# invoking the function\n",
    "my_function()\n",
    "\n",
    "# since Python interprets the code, a function CANNOT be invoked before it's definition."
   ]
  },
  {
   "cell_type": "markdown",
   "id": "0a14b123",
   "metadata": {},
   "source": [
    "##### parameterized functions"
   ]
  },
  {
   "cell_type": "code",
   "execution_count": null,
   "id": "c244d0de",
   "metadata": {},
   "outputs": [],
   "source": [
    "# defining the function with a parameter and a default value\n",
    "# the default value makes invoking the function without any parameter\n",
    "# if the default value is not specified, the function invocation needs the parameter value\n",
    "def odd_or_even(number=0):\n",
    "    if number%2==0: \n",
    "        return \"even\"  # returns the value of the function\n",
    "    else: \n",
    "        return \"odd\"   # returns the value of the function\n",
    "\n",
    "print(odd_or_even(45))"
   ]
  },
  {
   "cell_type": "markdown",
   "id": "9d675f8f",
   "metadata": {},
   "source": [
    "##### positional parameters & keyword arguments"
   ]
  },
  {
   "cell_type": "code",
   "execution_count": null,
   "id": "18953fcd",
   "metadata": {},
   "outputs": [],
   "source": [
    "# positional parameter passing\n",
    "def introduction(first_name, last_name = \"Smith\"):\n",
    "    print(\"Hello, my name is\", first_name, last_name)\n",
    "\n",
    "introduction(\"Luke\", \"Skywalker\")\n",
    "\n",
    "# this will work since last_name has a default value\n",
    "introduction(\"Luke\")\n",
    "\n",
    "# this will fail since the function expects first_name to be passed\n",
    "# introduction()\n",
    "\n",
    "# keyword argument passing - arguments get qualified with their names\n",
    "introduction(last_name= \"Uchiha\", first_name=\"Itachi\")\n",
    "\n",
    "# mixing positional and keyword arguments\n",
    "introduction(\"Minato\",last_name=\"Namikaze\")\n",
    "\n",
    "def add_numbers(a,b,c):\n",
    "    print(a+b+c)\n",
    "\n",
    "# this will not work since keyword arguments should be passed after positional arguments\n",
    "# add_numbers(c=9,a=4,7)\n",
    "add_numbers(7,c=4,b=9) # while add_numbers(7,a=4,c=9) will not work"
   ]
  },
  {
   "cell_type": "code",
   "execution_count": null,
   "id": "cb50142a",
   "metadata": {},
   "outputs": [],
   "source": [
    "# [sample program] program to find if a given year is a leap year\n",
    "def is_year_leap(year):\n",
    "    if ((year % 400 == 0) or (year % 100 != 0) and (year % 4 == 0)):\n",
    "        return True\n",
    "    else:\n",
    "        return False\n",
    "\n",
    "test_data = [1900, 2000, 2016, 1987]\n",
    "test_results = [False, True, True, False]\n",
    "\n",
    "for i in range(len(test_data)):\n",
    "    yr = test_data[i]\n",
    "    print(yr,\"--> \",end=\"\")\n",
    "    result = is_year_leap(yr)\n",
    "    if result == test_results[i]:\n",
    "        print(\"OK\")\n",
    "    else:\n",
    "        print(\"Failed\")\n"
   ]
  },
  {
   "cell_type": "markdown",
   "id": "be6912a4",
   "metadata": {},
   "source": [
    "##### scoping"
   ]
  },
  {
   "cell_type": "code",
   "execution_count": null,
   "id": "1b18c522",
   "metadata": {},
   "outputs": [],
   "source": [
    "def fn_sample():\n",
    "    print(\"Inside the function before redefining\", var)\n",
    "    var_in_fn = 100 # scoped to the function\n",
    "    print(\"Inside the function after redefining\", var_in_fn)\n",
    "\n",
    "var = 1\n",
    "\n",
    "fn_sample()\n",
    "print(\"Outside the function \", var)\n",
    "# print(\"Outside the function \", var_in_fn)  # this will not work as the variable is scoped to the function\n",
    "\n",
    "print()\n",
    "\n",
    "# using the global variable to extend the scope of a variable\n",
    "def fn_global_scope():\n",
    "    global global_var  # scoped to the function\n",
    "    global_var = 100\n",
    "    print(\"Inside the function after redefining\", global_var)\n",
    "\n",
    "fn_global_scope()\n",
    "print(\"Outside the function \", global_var)\n"
   ]
  },
  {
   "cell_type": "code",
   "execution_count": null,
   "id": "0069d9d4",
   "metadata": {},
   "outputs": [],
   "source": [
    "def my_function(my_list_1):\n",
    "    print(\"Print #1:\", my_list_1)\n",
    "    print(\"Print #2:\", my_list_2)\n",
    "    # my_list_1 = [0, 1] # this is changing the value of the list\n",
    "    del my_list_1[0] # this will modify the list and gets reflected outside the function\n",
    "    print(\"Print #3:\", my_list_1)\n",
    "    print(\"Print #4:\", my_list_2)\n",
    "\n",
    "my_list_2 = [2, 3]\n",
    "my_function(my_list_2)\n",
    "print(\"Print #5:\", my_list_2)\n"
   ]
  },
  {
   "cell_type": "markdown",
   "id": "45f40d89",
   "metadata": {},
   "source": [
    "##### None\n",
    "\n",
    "`None` is a keyword that represents no value. This can be used to assign to a variable and also a function that has nothing to return will return this."
   ]
  },
  {
   "cell_type": "code",
   "execution_count": null,
   "id": "d29c962a",
   "metadata": {},
   "outputs": [],
   "source": [
    "def funcNone(num):\n",
    "    if num%2 == 0:\n",
    "        return True\n",
    "    # no branching for odd numbers and hence a None value wil get reurned\n",
    "    \n",
    "print(funcNone(3))"
   ]
  },
  {
   "cell_type": "markdown",
   "id": "ccaf456b",
   "metadata": {},
   "source": [
    "##### recursive function\n",
    "a function that invokes itself"
   ]
  },
  {
   "cell_type": "code",
   "execution_count": null,
   "id": "755b0ea2",
   "metadata": {},
   "outputs": [],
   "source": [
    "def factorial_function(n):\n",
    "    if n < 0:\n",
    "        return None\n",
    "    if n < 2:\n",
    "        return 1\n",
    "    return n * factorial_function(n - 1)\n",
    "\n",
    "print(factorial_function(5))"
   ]
  },
  {
   "cell_type": "markdown",
   "id": "be7e63a6",
   "metadata": {},
   "source": [
    "### EXCEPTIONS HANDLING\n",
    "```\n",
    "try:\n",
    "\t# It's a place where\n",
    "\t# you can do something \n",
    "    # without asking for permission.\n",
    "except:\n",
    "\t# It's a spot dedicated to \n",
    "    # solemnly begging for forgiveness.\n",
    "```"
   ]
  },
  {
   "cell_type": "code",
   "execution_count": null,
   "id": "79cf9db6",
   "metadata": {},
   "outputs": [],
   "source": [
    "try:\n",
    "    value = int(input(\"Enter a number: \"))\n",
    "    print(\"The reciprocal of the\",value,\" is\", 1/value)\n",
    "except ValueError:\n",
    "    print(\"Please provide a proper value.\")\n",
    "except ZeroDivisionError:\n",
    "    print(\"Division by zero is not allowed.\")\n",
    "except:\n",
    "    # all other excpetions go here\n",
    "    print(\"Something unexpected happened.\")"
   ]
  },
  {
   "cell_type": "markdown",
   "id": "a7b03716",
   "metadata": {},
   "source": [
    "##### exception types\n",
    "\n",
    "Python 3 defines 63 built-in exceptions, and all of them form a tree-shaped hierarchy.\n",
    "\n",
    "```\n",
    "    BaseException\n",
    "        |--> SystemExit \n",
    "        |--> KeyboardInterrupt\n",
    "        |--> Exception\n",
    "              |--> ValueError\n",
    "              |--> LookupError\n",
    "              .       |--> KeyError\n",
    "              .       |-->  IndexError\n",
    "              |-ArithmticError\n",
    "                  |--> ZeroDivisionError\n",
    "```\n",
    "\n",
    "__syntax errors__ (parsing errors), which occur when the parser comes across a statement that is incorrect.\n",
    "\n",
    "Ex: print(\"Hello, World!)\n",
    "\n",
    "__exceptions__, which occur even when a statement/expression is syntactically correct; these are the errors that are detected during execution when your code results in an error which is not uncoditionally fatal. \n",
    "\n",
    "__ZeroDivisionError__\n",
    "This appears when you try to force Python to perform any operation which provokes division in which the divider is zero, or is indistinguishable from zero.\n",
    "\n",
    "__ValueError__\n",
    "Expect this exception when you're dealing with values which may be inappropriately used in some context. \n",
    "\n",
    "__TypeError__\n",
    "This exception shows up when you try to apply a data whose type cannot be accepted in the current context.\n",
    "\n",
    "__AttributeError__\n",
    "This exception arrives – among other occasions – when you try to activate a method which doesn't exist in an item you're dealing with."
   ]
  },
  {
   "cell_type": "markdown",
   "id": "3d14dc44",
   "metadata": {},
   "source": [
    "##### raising exceptions\n",
    "\n",
    "The `raise` instruction enables you to:\n",
    "\n",
    "- simulate raising actual exceptions (e.g., to test your handling strategy)\n",
    "- partially handle an exception and make another part of the code responsible for completing the handling (separation of concerns)."
   ]
  },
  {
   "cell_type": "code",
   "execution_count": null,
   "id": "5a484ffc",
   "metadata": {},
   "outputs": [
    {
     "name": "stdout",
     "output_type": "stream",
     "text": [
      "Arithmetic problem!\n",
      "THE END.\n"
     ]
    }
   ],
   "source": [
    "try:\n",
    "    y = 1 / 0\n",
    "except ArithmeticError: # this preceeds Zero DivisionError as this is in the first except block\n",
    "    print(\"Arithmetic problem!\")\n",
    "except ZeroDivisionError: # this can take precedence if it is defined above all other exceptions\n",
    "    print(\"Zero Division!\")\n",
    " \n",
    "print(\"THE END.\")"
   ]
  },
  {
   "cell_type": "code",
   "execution_count": null,
   "id": "ca40cc2a",
   "metadata": {},
   "outputs": [],
   "source": [
    "'''\n",
    "defining exceptions with function : the exception can be defined within the function as well and it can propogate outside the function\n",
    "the exception raised can cross function and module boundaries, \n",
    "and travel through the invocation chain looking for a matching except clause able to handle it.\n",
    "'''\n",
    "\n",
    "def bad_fun(n):\n",
    "    return 1 / n\n",
    " \n",
    "try:\n",
    "    bad_fun(0)\n",
    "except ArithmeticError:\n",
    "    print(\"What happened? An exception was raised!\")\n",
    " \n",
    "print(\"THE END.\")"
   ]
  },
  {
   "cell_type": "code",
   "execution_count": null,
   "id": "b11b9925",
   "metadata": {},
   "outputs": [
    {
     "name": "stdout",
     "output_type": "stream",
     "text": [
      "What happened? An error?\n",
      "THE END.\n"
     ]
    }
   ],
   "source": [
    "# raising the exception using the raise keyword\n",
    "def bad_fun(n):         # ----- trace 2\n",
    "    raise ZeroDivisionError # ----- trace 3\n",
    "\n",
    "\n",
    "try:\n",
    "    bad_fun(0)          # ----- trace 1\n",
    "except ArithmeticError: # ----- trace 4\n",
    "    print(\"What happened? An error?\") # ----- trace 5\n",
    "\n",
    "print(\"THE END.\")"
   ]
  },
  {
   "cell_type": "code",
   "execution_count": null,
   "id": "337408f5",
   "metadata": {},
   "outputs": [
    {
     "name": "stdout",
     "output_type": "stream",
     "text": [
      "I did it again!\n",
      "I see!\n",
      "THE END.\n"
     ]
    }
   ],
   "source": [
    "# raising the exception using only the `raise` keyword\n",
    "# this variant of raising exception is only allowed within the except block\n",
    "def bad_fun(n):\n",
    "    try:\n",
    "        return n / 0\n",
    "    except:\n",
    "        print(\"I did it again!\")\n",
    "        raise                       # ONLY ALLOWED HERE\n",
    "\n",
    "\n",
    "try:\n",
    "    bad_fun(0)\n",
    "except ArithmeticError:\n",
    "    print(\"I see!\")\n",
    "\n",
    "print(\"THE END.\")"
   ]
  },
  {
   "cell_type": "markdown",
   "id": "daa8482a",
   "metadata": {},
   "source": [
    "#### assertions\n",
    "\n",
    "keywords: `assert`\n",
    "\n",
    "_How does it work?_\n",
    "\n",
    "- It evaluates the expression;\n",
    "- if the expression evaluates to True, or a non-zero numerical value, or a non-empty string, or any other value different than None, it won't do anything else;\n",
    "- otherwise, it automatically and immediately raises an exception named AssertionError (in this case, we say that the assertion has failed)\n",
    "\n",
    "_How it can be used?_\n",
    "\n",
    "- you may want to put it into your code where you want to be absolutely safe from evidently wrong data, and where you aren't absolutely sure that the data has been carefully examined before (e.g., inside a function used by someone else)\n",
    "- raising an AssertionError exception secures your code from producing invalid results, and clearly shows the nature of the failure;\n",
    "- assertions don't supersede exceptions or validate the data – they are their supplements.\n",
    "- If exceptions and data validation are like careful driving, assertion can play the role of an airbag.\n",
    "\n"
   ]
  },
  {
   "cell_type": "code",
   "execution_count": null,
   "id": "b08eef0c",
   "metadata": {},
   "outputs": [
    {
     "ename": "AssertionError",
     "evalue": "",
     "output_type": "error",
     "traceback": [
      "\u001b[1;31m---------------------------------------------------------------------------\u001b[0m",
      "\u001b[1;31mAssertionError\u001b[0m                            Traceback (most recent call last)",
      "Cell \u001b[1;32mIn[140], line 4\u001b[0m\n\u001b[0;32m      1\u001b[0m \u001b[38;5;28;01mimport\u001b[39;00m \u001b[38;5;21;01mmath\u001b[39;00m\n\u001b[0;32m      3\u001b[0m x \u001b[38;5;241m=\u001b[39m \u001b[38;5;28mfloat\u001b[39m(\u001b[38;5;28minput\u001b[39m(\u001b[38;5;124m\"\u001b[39m\u001b[38;5;124mEnter a number: \u001b[39m\u001b[38;5;124m\"\u001b[39m))\n\u001b[1;32m----> 4\u001b[0m \u001b[38;5;28;01massert\u001b[39;00m x \u001b[38;5;241m>\u001b[39m\u001b[38;5;241m=\u001b[39m \u001b[38;5;241m0.0\u001b[39m     \u001b[38;5;66;03m# this throws AssertionError when the user inputs a number less than zero\u001b[39;00m\n\u001b[0;32m      6\u001b[0m x \u001b[38;5;241m=\u001b[39m math\u001b[38;5;241m.\u001b[39msqrt(x)\n\u001b[0;32m      8\u001b[0m \u001b[38;5;28mprint\u001b[39m(x)\n",
      "\u001b[1;31mAssertionError\u001b[0m: "
     ]
    }
   ],
   "source": [
    "import math\n",
    "\n",
    "x = float(input(\"Enter a number: \"))\n",
    "assert x >= 0.0     # this throws AssertionError when the user inputs a number less than zero\n",
    "\n",
    "x = math.sqrt(x)\n",
    "\n",
    "print(x)\n",
    "    "
   ]
  },
  {
   "cell_type": "markdown",
   "id": "1bfc262a",
   "metadata": {},
   "source": [
    "### MODULES\n",
    "\n",
    "keywords: `ìmport`\n",
    "<br> \n",
    "jargons : _namespaces_, _modules_"
   ]
  },
  {
   "cell_type": "code",
   "execution_count": null,
   "id": "07536e0a",
   "metadata": {},
   "outputs": [],
   "source": [
    "# importing the module\n",
    "# import [module name] or\n",
    "# import [module names separated by commas]\n",
    "import math, sys\n",
    "\n",
    "# qualifyung the names with the module name\n",
    "pi = math.pi\n",
    "\n",
    "print(pi)"
   ]
  },
  {
   "cell_type": "code",
   "execution_count": null,
   "id": "9d488f98",
   "metadata": {},
   "outputs": [],
   "source": [
    "# import entities from modules\n",
    "# from [module name] import [entity name or entity names separated by commas]\n",
    "from math import pi,sin\n",
    "\n",
    "print(sin(pi/2))\n"
   ]
  },
  {
   "cell_type": "markdown",
   "id": "9b603ac9",
   "metadata": {},
   "source": [
    "##### importing a module vs local namespace variables"
   ]
  },
  {
   "cell_type": "code",
   "execution_count": null,
   "id": "e320b1c1",
   "metadata": {},
   "outputs": [],
   "source": [
    "# [sample module import]\n",
    "\n",
    "# where ever this import statement is executed, the imported symbols supersede the previous definitions within the namespace\n",
    "from math import pi,sin \n",
    "\n",
    "print(sin(pi/2))\n",
    "\n",
    "# redefining the symbol imports within this namespace different from the `math` namespace\n",
    "pi = 3.14\n",
    "\n",
    "def sin(x):\n",
    "    if 2 * x == pi:\n",
    "        return 0.99999999\n",
    "    else:\n",
    "        return None\n",
    "\n",
    "# the local variable definition within this namespace will be taken into account \n",
    "print(sin(pi / 2))"
   ]
  },
  {
   "cell_type": "markdown",
   "id": "db9865d3",
   "metadata": {},
   "source": [
    "##### aliasing the module and it's entitites\n",
    "\n",
    "When the name of a module or it's entitites conflicts with the name of the local namespace variables, then the imports can be aliased\n",
    "<br> or\n",
    "<br> if the name of the module or entity is legthier, then aliasing can be done."
   ]
  },
  {
   "cell_type": "code",
   "execution_count": null,
   "id": "85a70b0e",
   "metadata": {},
   "outputs": [],
   "source": [
    "\n",
    "import math as m\n",
    "\n",
    "print(m.sin(m.pi/2))     # this will work \n",
    "\n",
    "from math import pi as PI, sin as sine  \n",
    "  \n",
    "print(sine(PI/2))"
   ]
  },
  {
   "cell_type": "markdown",
   "id": "d5eab7da",
   "metadata": {},
   "source": [
    "##### working with standard modules"
   ]
  },
  {
   "cell_type": "code",
   "execution_count": null,
   "id": "e6d899f4",
   "metadata": {},
   "outputs": [],
   "source": [
    "# print all the entities in the math module\n",
    "import math\n",
    "  \n",
    "for name in dir(math):\n",
    "  print(name, end=\"∖t\")"
   ]
  },
  {
   "cell_type": "code",
   "execution_count": null,
   "id": "21e06578",
   "metadata": {},
   "outputs": [],
   "source": [
    "# some math functions provided by the math module\n",
    "\n",
    "from math import e, exp, log\n",
    "\n",
    "print(pow(e, 1) == exp(log(e)))\n",
    "print(pow(2, 2) == exp(2 * log(2)))\n",
    "print(log(e, e) == exp(0))\n"
   ]
  },
  {
   "cell_type": "markdown",
   "id": "70a204fb",
   "metadata": {},
   "source": [
    "##### random module\n",
    "provides various funtions related to working with psudorandom numbers\n",
    "<br> <br>\n",
    "entities: `random`, `seed`, `randrange`, `randint` , `choice`, `sample`\n",
    "<br> <br>\n",
    "_A random number generator takes a value called a seed, treats it as an input value, calculates a \"random\" number based on it (the method depends on a chosen algorithm) and produces a new seed value._"
   ]
  },
  {
   "cell_type": "code",
   "execution_count": null,
   "id": "c3744682",
   "metadata": {},
   "outputs": [],
   "source": [
    "from random import random, seed\n",
    "\n",
    "for i in range(5):\n",
    "    print(random())"
   ]
  },
  {
   "cell_type": "markdown",
   "id": "b8a277e4",
   "metadata": {},
   "source": [
    "- seed function"
   ]
  },
  {
   "cell_type": "code",
   "execution_count": null,
   "id": "828ee536",
   "metadata": {},
   "outputs": [],
   "source": [
    "# seed function -  able to directly set the generator's seed\n",
    "seed()   # sets the generator's seed with the current time\n",
    "seed(0)  # sets the generator's seed with the provided integer value\n",
    "\n",
    "for i in range(3):\n",
    "    print(random())"
   ]
  },
  {
   "cell_type": "code",
   "execution_count": null,
   "id": "bb509d86",
   "metadata": {},
   "outputs": [],
   "source": [
    "# randrange & randint\n",
    "# randrange - \n",
    "\n",
    "from random import randrange, randint\n",
    "\n",
    "print(randrange(1), end=' ')            # only ending value is given\n",
    "print(randrange(0, 1), end=' ')         # both beginning and ending values are given\n",
    "print(randrange(0, 5, 5), end=' ')      # beginning, end and step values are given\n",
    "print(randint(0, 34))                   # random ineger ranging from beginning to end"
   ]
  },
  {
   "cell_type": "markdown",
   "id": "834ff67a",
   "metadata": {},
   "source": [
    "- choice and sample functions\n",
    "\n",
    "  - choice : `choice(sequence)` - chooses a random element from a given input sequence\n",
    "\n",
    "  - sample : `sample(sequence, elements_to_choose)` - builds a list of random elements from the given input sequence and the elements to choose "
   ]
  },
  {
   "cell_type": "code",
   "execution_count": null,
   "id": "c866dc44",
   "metadata": {},
   "outputs": [],
   "source": [
    "from random import choice, sample\n",
    "\n",
    "my_list = [1, 2, 3, 4, 5, 6, 7, 8, 9, 10]\n",
    "\n",
    "print(choice(my_list))\n",
    "print(sample(my_list, 5))\n",
    "print(sample(my_list, 10))"
   ]
  },
  {
   "cell_type": "markdown",
   "id": "2361e3e6",
   "metadata": {},
   "source": [
    "##### platform module\n",
    "\n",
    "The platform module lets you access the underlying platform's data, i.e., hardware, operating system, and interpreter version information.\n",
    "\n",
    "__entities__: `platform`, `machine`, `processor`, `system`, `version`"
   ]
  },
  {
   "cell_type": "code",
   "execution_count": null,
   "id": "1004802f",
   "metadata": {},
   "outputs": [],
   "source": [
    "# platform(aliased = False, terse = False)\n",
    "# aliased - it may cause the function to present the alternative underlying layer names instead of the common ones\n",
    "# terse   - it may convince the function to present a briefer form of the result\n",
    "\n",
    "from platform import platform, machine, processor, system, version\n",
    "\n",
    "print(platform())\n",
    "print(platform(1))\n",
    "print(platform(0,1))\n",
    "\n",
    "print(machine())        # generic name of the processor which runs the OS together with the Python code\n",
    "\n",
    "print(processor())      # provides the real processor name\n",
    "\n",
    "print(system())         # generic OS name    \n",
    "\n",
    "print(version())        # OS version  "
   ]
  },
  {
   "cell_type": "markdown",
   "id": "8139f819",
   "metadata": {},
   "source": [
    "- python_implementation & python_version_tuple functions"
   ]
  },
  {
   "cell_type": "code",
   "execution_count": null,
   "id": "85dc5d57",
   "metadata": {},
   "outputs": [],
   "source": [
    "# to know about the Python version\n",
    "\n",
    "from platform import python_implementation, python_version_tuple\n",
    "\n",
    "major,minor,patch = python_version_tuple()  # returns the major, minor and patch version numbers in the form of a tuple\n",
    "\n",
    "print(python_implementation(), major,\".\",minor,\".\",patch)  # returns a string denoting the Python implementation"
   ]
  },
  {
   "cell_type": "markdown",
   "id": "6ee0cbc4",
   "metadata": {},
   "source": [
    "##### sys module\n",
    "\n",
    "entities: `path`\n",
    "<br>\n",
    "__path__ : a special variable (actually a list) storing all locations (folders/directories) that are searched in order to find a module which has been requested by the import instruction."
   ]
  },
  {
   "cell_type": "code",
   "execution_count": null,
   "id": "1b02cec6",
   "metadata": {},
   "outputs": [],
   "source": [
    "from sys import path\n",
    "\n",
    "for p in path:\n",
    "    print(p)"
   ]
  },
  {
   "cell_type": "markdown",
   "id": "f9353fd4",
   "metadata": {},
   "source": [
    "#### PIP\n",
    "\n",
    "- pip is a recursive acronym that stands for _'pip installs packages'_\n",
    "\n",
    "- it helps to download packages from the __PyPI__ (Python Package Index) aka __The Cheese Shop__ which is a centralized repository of all available software packages\n",
    "\n",
    "- to check the version : `pip --version`\n",
    "\n",
    "- pip help: `pip help`\n",
    "\n",
    "- list all installed packages: `pip list`\n",
    "\n",
    "- show installed package details: `pip show package_name`\n",
    "\n",
    "- search packages: `pip search anystring`\n",
    "\n",
    "- installing a package for the logged in user : `pip install --user  package_name`\n",
    "\n",
    "- installing a package as admin : `pip install package_name` , remove the `--user` flag\n",
    "\n",
    "- updating a package : `pip install -U package_name`\n",
    "\n",
    "- install a specific package version : `pip install package_name==package_version`\n",
    "\n",
    "- uninstall a package: `pip uninstall package_name`"
   ]
  },
  {
   "cell_type": "markdown",
   "id": "ee146b67",
   "metadata": {},
   "source": [
    "#### STRINGS & RELATED METHODS\n",
    "\n",
    "- strings are immutable sequences\n"
   ]
  },
  {
   "cell_type": "code",
   "execution_count": null,
   "id": "e5d15bc7",
   "metadata": {},
   "outputs": [],
   "source": [
    "word = 'Sharingan'\n",
    "print(len(word))\n",
    "\n",
    "word = ''\n",
    "print(len(word))\n",
    "\n",
    "word = \"I\\'m\"\n",
    "print(len(word))"
   ]
  },
  {
   "cell_type": "markdown",
   "id": "76535ab0",
   "metadata": {},
   "source": [
    "- multiline strings\n",
    "\n",
    "    - Line Feed and Carriage Return are also counted in the length\n",
    "    - Can have both single and double quotes\n"
   ]
  },
  {
   "cell_type": "code",
   "execution_count": null,
   "id": "0ceeeb87",
   "metadata": {},
   "outputs": [],
   "source": [
    "multiline = '''Line #1\n",
    "Line #2'''\n",
    "\n",
    "print(len(multiline))\n",
    "\n",
    "multiline = \"\"\"My name is Carnival.\n",
    "It's a happy day!\n",
    "\"\"\"\n",
    "\n",
    "print(len(multiline))"
   ]
  },
  {
   "cell_type": "markdown",
   "id": "24618acd",
   "metadata": {},
   "source": [
    "- concatenation & replication"
   ]
  },
  {
   "cell_type": "code",
   "execution_count": null,
   "id": "9dfd5e62",
   "metadata": {},
   "outputs": [],
   "source": [
    "str_1 = \"a\"\n",
    "str_2 = \"b\"\n",
    "\n",
    "print(str_1 + str_2)  # concatenation\n",
    "\n",
    "print(str_1 * 7) # replication"
   ]
  },
  {
   "cell_type": "markdown",
   "id": "cfe9102c",
   "metadata": {},
   "source": [
    "##### string functions"
   ]
  },
  {
   "cell_type": "code",
   "execution_count": null,
   "id": "b6516abd",
   "metadata": {},
   "outputs": [],
   "source": [
    "# ordinal function ord() - know a specific character's ASCII/UNICODE code point value\n",
    "\n",
    "char_1 = 'a'\n",
    "char_2 = ' '  # space\n",
    "\n",
    "print(ord(char_1))\n",
    "print(ord(char_2))\n",
    "\n",
    "# character function chr()- accepts a code point value and returns ACSII character\n",
    "\n",
    "print(chr(97))\n",
    "print(chr(945))\n"
   ]
  },
  {
   "cell_type": "markdown",
   "id": "131d696f",
   "metadata": {},
   "source": [
    "##### indexing, iterating & slicing strings"
   ]
  },
  {
   "cell_type": "code",
   "execution_count": null,
   "id": "559552bb",
   "metadata": {},
   "outputs": [],
   "source": [
    "indexed_string = \"string indexing\"\n",
    "\n",
    "for i in range(len(indexed_string)):\n",
    "    print(indexed_string[i], end=\"\")  # string gets indexed\n",
    "\n",
    "print()\n",
    "for i in \"iterable_string\": # iterate over the string\n",
    "    print(i, end=\"\")\n",
    "\n",
    "print()\n",
    "# slicing through a string\n",
    "print(indexed_string[-1:])"
   ]
  },
  {
   "cell_type": "markdown",
   "id": "011eb0ae",
   "metadata": {},
   "source": [
    "##### in and not in operators"
   ]
  },
  {
   "cell_type": "code",
   "execution_count": null,
   "id": "7733124a",
   "metadata": {},
   "outputs": [],
   "source": [
    "allow_list = \"!@#$%^&*()-_=+\"\n",
    "\n",
    "print(\"%\" in allow_list)\n",
    "\n",
    "print(\"\\\"\" not in allow_list)"
   ]
  },
  {
   "cell_type": "code",
   "execution_count": null,
   "id": "c89265ce",
   "metadata": {},
   "outputs": [],
   "source": [
    "multiline_string = '''This is a sample multiline string\n",
    "that has two lines of characters.'''\n",
    "\n",
    "print(len(multiline_string))"
   ]
  },
  {
   "cell_type": "markdown",
   "id": "2eb2e1e5",
   "metadata": {},
   "source": [
    "##### string methods\n",
    " _the original string from which the method is invoked is not changed in any way – a string's immutability must be obeyed without reservation; the modified string (in this case, capitalized) is returned as a result – if you don't use it in any way (assign it to a variable, or pass it to a function/method) it will disappear without a trace._\n",
    "\n",
    "   - `capitalize()` – changes all string letters to capitals;\n",
    "   - `center()` – centers the string inside the field of a known length;\n",
    "   - `count()` – counts the occurrences of a given character;\n",
    "   - `join()` – joins all items of a tuple/list into one string;\n",
    "   - `lower()` – converts all the string's letters into lower-case letters;\n",
    "   - `lstrip()` – removes the white characters from the beginning of the string;\n",
    "   - `replace()` – replaces a given substring with another;\n",
    "   - `rfind()` – finds a substring starting from the end of the string;\n",
    "   - `rstrip()` – removes the trailing white spaces from the end of the string;\n",
    "   - `split()` – splits the string into a substring using a given delimiter;\n",
    "   - `strip()` – removes the leading and trailing white spaces;\n",
    "   - `swapcase()` – swaps the letters' cases (lower to upper and vice versa)\n",
    "   - `title()` – makes the first letter in each word upper-case;\n",
    "   - `upper()` – converts all the string's letter into upper-case letters.\n",
    "    \n",
    "\n",
    "   - `endswith()` – does the string end with a given substring?\n",
    "   - `isalnum()` – does the string consist only of letters and digits?\n",
    "   - `isalpha()` – does the string consist only of letters?\n",
    "   - `islower()` – does the string consists only of lower-case letters?\n",
    "   - `isspace()` – does the string consists only of white spaces?\n",
    "   - `isupper()` – does the string consists only of upper-case letters?\n",
    "   - `startswith()` – does the string begin with a given substring?"
   ]
  },
  {
   "cell_type": "code",
   "execution_count": null,
   "id": "e57d997b",
   "metadata": {},
   "outputs": [],
   "source": [
    "\"\"\"\n",
    "\n",
    "capitalize()\n",
    "similiar to initcap() as it capitalizes the first letter\n",
    "\n",
    "\"\"\"\n",
    "\n",
    "print(\"cApItAlIzRr\".capitalize())\n",
    "print(\"αβγδ\".capitalize())\n",
    "\n",
    "\"\"\"\n",
    "\n",
    "center()\n",
    "\n",
    "- The one-parameter variant of the center() method makes a copy of the original string, trying to center it inside a field of a specified width.\n",
    "- The two-parameter variant of center() makes use of the character from the second argument, instead of a space.\n",
    "\n",
    "\"\"\"\n",
    "# vary the value inside the method to increase the spacing width\n",
    "print('{' + 'alpha'.center(10) +  '}')\n",
    "\n",
    "print('{' + 'beta'.center(1) +  '}')\n",
    "\n",
    "print('{' + 'alpha'.center(20,'*') +  '}')"
   ]
  },
  {
   "cell_type": "code",
   "execution_count": null,
   "id": "5cfec993",
   "metadata": {},
   "outputs": [],
   "source": [
    "\"\"\"\n",
    "\n",
    "isalnum() \n",
    "\n",
    "checks if the string contains only digits or alphabetical characters (letters),\n",
    "and returns True or False according to the result.\n",
    "\n",
    "\"\"\"\n",
    "\n",
    "print(\"M0nty Pyth0n\".isalnum())\n",
    "\n",
    "print(\"MontyPython\".isalnum())\n",
    "\n",
    "\n",
    "\"\"\"\n",
    "\n",
    "isalpha() \n",
    "\n",
    "it's interested in letters only\n",
    "\n",
    "\"\"\"\n",
    "print(\"M000\".isalpha())\n",
    "print(\"Mooo\".isalpha())\n",
    "print(\"Monty Python\".isalpha()) # space character is not alphabet\n",
    "\n",
    "\n",
    "\"\"\"\n",
    "\n",
    "isdigit()\n",
    "looks at digits only – anything else produces False as the result.\n",
    "\n",
    "\"\"\"\n",
    "\n",
    "print('2023'.isdigit())\n",
    "print(\"Year2023\".isdigit())\n",
    "\n",
    "\n",
    "\"\"\"\n",
    "\n",
    "islower()\n",
    "a fussy variant of isalpha() – it accepts lower-case letters only.\n",
    "\n",
    "\"\"\"\n",
    "print(\"Moooo\".islower())\n",
    "print('moooo'.islower())\n",
    "\n",
    "\n",
    "\"\"\"\n",
    "\n",
    "isspace()\n",
    "method identifies whitespaces only – it disregards any other character\n",
    "\n",
    "\"\"\"\n",
    "\n",
    "print(' \\n '.isspace())\n",
    "print(\" \".isspace())\n",
    "print(\"mooo mooo mooo\".isspace())\n",
    "\n",
    "\n",
    "\"\"\"\n",
    "\n",
    "isupper()\n",
    "method is the upper-case version of islower() – it concentrates on upper-case letters only.\n",
    "\n",
    "\"\"\"\n",
    "print(\"Moooo\".isupper())\n",
    "print('moooo'.isupper())\n",
    "print('MOOOO'.isupper())"
   ]
  },
  {
   "cell_type": "code",
   "execution_count": null,
   "id": "ee25b306",
   "metadata": {},
   "outputs": [],
   "source": [
    "\"\"\"\n",
    "\n",
    "join()\n",
    "\n",
    "expects a list and throws a TypeException when the list elements are not strings\n",
    "\n",
    "\"\"\"\n",
    "\n",
    "print(\"-\".join([\"omicron\", \"pi\", \"rho\"]))  # separator '-'\n",
    "\n",
    "\n",
    "\"\"\"\n",
    "\n",
    "lower()\n",
    "\n",
    "makes a copy of a source string, replaces all upper-case letters with their lower-case counterparts, \n",
    "and returns the string as the result. Again, the source string remains untouched.\n",
    "\n",
    "\"\"\"\n",
    "\n",
    "print(\"SigMA=77\".lower())\n",
    "\n",
    "\"\"\"\n",
    "\n",
    "upper()\n",
    "\n",
    "makes a copy of the source string, \n",
    "replaces all lower-case letters with their upper-case counterparts, \n",
    "and returns the string as the result.\n",
    "\n",
    "\"\"\"\n",
    "\n",
    "print(\"I know that I know nothing. Part 2.\".upper())"
   ]
  },
  {
   "cell_type": "code",
   "execution_count": null,
   "id": "bc6b64de",
   "metadata": {},
   "outputs": [],
   "source": [
    "\"\"\"\n",
    "\n",
    "lstrip()    - removes leading whitespaces\n",
    "rstrip()    - removes trailing whitespaces\n",
    "strip()     - has the effects of both the above\n",
    "\n",
    "removes whitespaces from a given string\n",
    "\n",
    "\"\"\"\n",
    "\n",
    "print(\"[\" + \" tau \".lstrip() + \"]\")  \n",
    "\n",
    "print(\"[\" + \" upsilon \".rstrip() + \"]\")\n",
    "print(\"cisco.com\".rstrip(\".com\"))\n",
    "\n",
    "print(\"[\" + \"   aleph   \".strip() + \"]\")"
   ]
  },
  {
   "cell_type": "code",
   "execution_count": null,
   "id": "d222e0af",
   "metadata": {},
   "outputs": [],
   "source": [
    "\"\"\"\n",
    "\n",
    "replace()\n",
    "returns a copy of the original string in which all occurrences of the first argument have been replaced by the second argument.\n",
    "\n",
    "\"\"\"\n",
    "\n",
    "print(\"www.netacad.com\".replace(\"netacad.com\", \"pythoninstitute.org\"))\n",
    "print(\"This is it!\".replace(\"is\", \"are\"))\n",
    "print(\"Apple juice\".replace(\"juice\", \"\"))\n",
    "\n",
    "\n"
   ]
  },
  {
   "cell_type": "code",
   "execution_count": null,
   "id": "bd2b279c",
   "metadata": {},
   "outputs": [],
   "source": [
    "\"\"\"\n",
    "\n",
    "endswith()\n",
    "\n",
    "The endswith() method checks if the given string ends \n",
    "with the specified argument and returns True or False, \n",
    "depending on the check result.\n",
    "\n",
    "\"\"\"\n",
    "if \"epsilon\".endswith(\"on\"):\n",
    "    print(\"yes\")\n",
    "else:\n",
    "    print(\"no\")\n",
    "\n",
    "\"\"\"\n",
    "\n",
    "startswith()\n",
    "\n",
    "it checks if a given string starts with the specified substring.\n",
    "\n",
    "\"\"\"\n",
    "print(\"omega\".startswith(\"meg\"))\n",
    "print(\"omega\".startswith(\"om\"))\n",
    "\n",
    "print()\n"
   ]
  },
  {
   "cell_type": "code",
   "execution_count": null,
   "id": "70af75ee",
   "metadata": {},
   "outputs": [],
   "source": [
    "\"\"\"\n",
    "The find() method is similar to index(), \n",
    "which you already know – \n",
    "it looks for a substring and returns the index of the first occurrence of this substring. \n",
    "\n",
    "\"\"\"\n",
    "# Demonstrating the find() method:\n",
    "print(\"Pneumonoultramicroscopicsilicovolcanoconiosis\".find(\"silico\"))\n",
    "print(\"Eta\".find(\"mma\")) # when the substring is not present, it gives -1 rather than generating an error.\n",
    "\n",
    "print('kappa'.find('a', 3)) # second parameter is from where the search is to be started\n",
    "\n",
    "the_text = \"\"\"A variation of the ordinary lorem ipsum\n",
    "text has been used in typesetting since the 1960s \n",
    "or earlier, when it was popularized by advertisements \n",
    "for Letraset transfer sheets. It was introduced to \n",
    "the Information Age in the mid-1980s by the Aldus Corporation, \n",
    "which employed it in graphics and word-processing templates\n",
    "for its desktop publishing program PageMaker (from Wikipedia)\"\"\"\n",
    "\n",
    "fnd = the_text.find('the')\n",
    "while fnd != -1:\n",
    "    print(fnd)\n",
    "    fnd = the_text.find('the', fnd + 1)\n",
    "    \n",
    "\"\"\"\n",
    "\n",
    "rfind()\n",
    "start their searches from the end of the string, not the beginning (hence the prefix r, for right).\n",
    "\n",
    "\"\"\"\n",
    "\n",
    "print(\"tau tau tau\".rfind(\"ta\"))\n",
    "print(\"tau tau tau\".rfind(\"ta\", 9))"
   ]
  },
  {
   "cell_type": "code",
   "execution_count": null,
   "id": "de32e072",
   "metadata": {},
   "outputs": [],
   "source": [
    "\"\"\"\n",
    "\n",
    "split()\n",
    "it splits the string and builds a list of all detected substrings.\n",
    "\n",
    "The method assumes that the substrings are delimited by whitespaces – the spaces don't take part in the operation, \n",
    "and aren't copied into the resulting list.\n",
    "\n",
    "\"\"\"\n",
    "\n",
    "print(\"phi       chi\\npsi\".split())"
   ]
  },
  {
   "cell_type": "code",
   "execution_count": null,
   "id": "56d58346",
   "metadata": {},
   "outputs": [],
   "source": [
    "\"\"\"\n",
    "swapcase()\n",
    "\n",
    "makes a new string by swapping the cases of all letters within the source string:\n",
    "lower-case characters become upper-case, and vice versa.\n",
    "\n",
    "\"\"\"\n",
    "\n",
    "print(\"I know that I know nothing.\".swapcase())\n",
    "print()\n",
    "\n",
    "\n",
    "\"\"\"\n",
    "\n",
    "title() - it changes every word's first letter to upper-case, turning all other ones to lower-case.\n",
    "\n",
    "\"\"\"\n",
    "\n",
    "print(\"I know that I know nothing. Part 1.\".title())\n",
    "print()"
   ]
  },
  {
   "cell_type": "markdown",
   "id": "e130ff2c",
   "metadata": {},
   "source": [
    "##### string comparison\n",
    "\n",
    "compares code point values, character by character.\n",
    "\n",
    "- `string == number` is always False;\n",
    "- `string != number` is always True;\n",
    "- `string >= number` always raises an exception."
   ]
  },
  {
   "cell_type": "code",
   "execution_count": null,
   "id": "7a8f20bb",
   "metadata": {},
   "outputs": [],
   "source": [
    "'alpha' == 'alpha'\n",
    "'alpha' == 'Alpha' # comparing the first different character in both strings when they are same\n",
    "\n",
    "'alpha' < 'alphabet' # longer string is considered greater\n",
    " \n",
    "'beta' > 'Beta' # upper-case letters are taken as lesser than lower-case ones\n",
    "\n",
    "print('10' == '010')\n",
    "print('10' > '010')\n",
    "print('10' > '8')\n",
    "print('20' < '8')\n",
    "print('20' < '80')\n",
    "\n",
    "'10' == 10\n",
    "'10' != 10\n",
    "'10' == 1\n",
    "'10' != 1\n",
    "# Using any of the remaining\n",
    "# comparison operators will raise a TypeError exception.\n",
    "'10' > 10 "
   ]
  },
  {
   "cell_type": "markdown",
   "id": "f4cd7abd",
   "metadata": {},
   "source": [
    "##### sorting"
   ]
  },
  {
   "cell_type": "code",
   "execution_count": null,
   "id": "f80c43e6",
   "metadata": {},
   "outputs": [],
   "source": [
    "greek = ['omega', 'alpha', 'pi', 'gamma']\n",
    "\n",
    "# method 1 : using sorted method, this will not affect the original list\n",
    "\n",
    "sorted_greek = sorted(greek) \n",
    "\n",
    "print(greek)\n",
    "print(sorted_greek)\n",
    "\n",
    "print()\n",
    "\n",
    "# method 2 : calling the .sort() method on the list which will modify the list itself\n",
    "\n",
    "sorted_by_sort = greek.sort()\n",
    "\n",
    "print(sorted_by_sort)"
   ]
  },
  {
   "cell_type": "markdown",
   "id": "1f68a64e",
   "metadata": {},
   "source": [
    "##### strings vs numbers"
   ]
  },
  {
   "cell_type": "code",
   "execution_count": null,
   "id": "2c909e66",
   "metadata": {},
   "outputs": [],
   "source": [
    "itg = 13\n",
    "flt = 1.3\n",
    "si = str(itg)\n",
    "sf = str(flt)\n",
    "\n",
    "print(si + ' '+ sf)\n",
    "\n",
    "si = '13'\n",
    "sf = '1.3'\n",
    "itg = int(si)\n",
    "# The reverse transformation (string-number) is possible \n",
    "# when and only when the string represents a valid number. \n",
    "# If the condition is not met, expect a ValueError exception.\n",
    "flt = float(sf)\n",
    "\n",
    "print(itg + flt)"
   ]
  }
 ],
 "metadata": {
  "kernelspec": {
   "display_name": "Python 3 (ipykernel)",
   "language": "python",
   "name": "python3"
  },
  "language_info": {
   "codemirror_mode": {
    "name": "ipython",
    "version": 3
   },
   "file_extension": ".py",
   "mimetype": "text/x-python",
   "name": "python",
   "nbconvert_exporter": "python",
   "pygments_lexer": "ipython3",
   "version": "3.12.1"
  }
 },
 "nbformat": 4,
 "nbformat_minor": 5
}
