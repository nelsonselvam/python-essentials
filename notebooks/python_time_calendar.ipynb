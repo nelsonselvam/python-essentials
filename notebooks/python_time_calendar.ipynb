{
 "cells": [
  {
   "cell_type": "markdown",
   "metadata": {},
   "source": [
    "# Calendar Module\n",
    "\n",
    "Python standard library provides a module called calendar which, as the name suggests, offers calendar-related functions."
   ]
  },
  {
   "cell_type": "code",
   "execution_count": null,
   "metadata": {},
   "outputs": [],
   "source": [
    "import calendar as cal\n",
    "\n",
    "print(cal.calendar(2024))\n",
    "\n",
    "# other way to print the calendar\n",
    "cal.prcal(2024)"
   ]
  },
  {
   "cell_type": "markdown",
   "metadata": {},
   "source": [
    "#### useful calendar methods"
   ]
  },
  {
   "cell_type": "code",
   "execution_count": null,
   "metadata": {},
   "outputs": [],
   "source": [
    "print(cal.month(2024, 2))\n",
    "\n",
    "cal.setfirstweekday(cal.SUNDAY) # default day of the week is Monday\n",
    "\n",
    "cal.prmonth(2024,2)             # another way to print the month\n",
    "\n",
    "print(\"\\n\",cal.weekday(2024,2,8))   # print the weekday , a number\n",
    "\n",
    "print(\"\\n\",cal.weekheader(2))       # print the header, the value specifies the header width"
   ]
  },
  {
   "cell_type": "markdown",
   "metadata": {},
   "source": [
    "#### leap year methods"
   ]
  },
  {
   "cell_type": "code",
   "execution_count": null,
   "metadata": {},
   "outputs": [],
   "source": [
    "# check if a year is leap or not\n",
    "\n",
    "print(cal.isleap(2024))\n",
    "print(cal.leapdays(1994,2024))      # prints the number of leap days 2024 excluded\n",
    "\n"
   ]
  },
  {
   "cell_type": "markdown",
   "metadata": {},
   "source": [
    "#### classes for creating calendars\n",
    "\n",
    "- `calendar.Calendar` – provides methods to prepare calendar data for formatting;\n",
    "- `calendar.TextCalendar` – is used to create regular text calendars;\n",
    "- `calendar.HTMLCalendar` – is used to create HTML calendars;\n",
    "- `calendar.LocalTextCalendar` – is a subclass of the calendar.TextCalendar class. The constructor of this class takes the locale parameter, which is used to return the appropriate months and weekday names.\n",
    "- `calendar.LocalHTMLCalendar` – is a subclass of the calendar.HTMLCalendar class. The constructor of this class takes the locale parameter, which is used to return the appropriate months and weekday names."
   ]
  },
  {
   "cell_type": "markdown",
   "metadata": {},
   "source": [
    "##### calendar class"
   ]
  },
  {
   "cell_type": "code",
   "execution_count": null,
   "metadata": {},
   "outputs": [],
   "source": [
    "c = cal.Calendar(cal.SUNDAY)        # explicitly set the calendat to start with Sunday, default is Monday\n",
    "\n",
    "for weekday in c.iterweekdays():\n",
    "    print(weekday, end= \" \")"
   ]
  },
  {
   "cell_type": "code",
   "execution_count": null,
   "metadata": {},
   "outputs": [],
   "source": [
    "'''\n",
    "itermonthdates()\n",
    "\n",
    "all days in the specified month and year are returned,\n",
    "as well as all days before the beginning of the month or \n",
    "the end of the month that are necessary to get a complete week.\n",
    "\n",
    "''' \n",
    "\n",
    "for date in c.itermonthdates(2024,2):\n",
    "    print(date, end = \" \")\t\n",
    "    \n"
   ]
  },
  {
   "cell_type": "code",
   "execution_count": null,
   "metadata": {},
   "outputs": [],
   "source": [
    "'''\n",
    "itermonthdays()\n",
    "akes year and month as parameters, \n",
    "and then returns the iterator to the days of the week represented by numbers.\n",
    "\n",
    "'''\n",
    "\n",
    "for iter in c.itermonthdays2(2024,2):\n",
    "    print(iter, end = \" \")"
   ]
  },
  {
   "cell_type": "code",
   "execution_count": null,
   "metadata": {},
   "outputs": [],
   "source": [
    "'''\n",
    "monthdays2calendar() method\n",
    "\n",
    "akes the year and month, and then returns a list of weeks in a specific month. \n",
    "Each week is a tuple consisting of day numbers and weekday numbers.\n",
    "\n",
    "'''\n",
    "\n",
    "for data in c.monthdays2calendar(2024,2):\n",
    "    print(data)"
   ]
  },
  {
   "cell_type": "markdown",
   "metadata": {},
   "source": [
    "[task] Extend `Calendar` class's functionality with a new method called count_weekday_in_year, which takes a year and a weekday as parameters, and then returns the number of occurrences of a specific weekday in the year.\n",
    "\n",
    "Use the following tips:\n",
    "\n",
    "- Create a class called MyCalendar that extends the Calendar class;\n",
    "- Create the count_weekday_in_year method with the year and weekday parameters. The weekday parameter should be a value between 0-6, where 0 is Monday and 6 is Sunday. The method should return the number of days as an integer;\n",
    "- In your implementation, use the monthdays2calendar method of the Calendar class."
   ]
  },
  {
   "cell_type": "code",
   "execution_count": null,
   "metadata": {},
   "outputs": [],
   "source": [
    "# solution :\n",
    "\n",
    "class MyCalendar():\n",
    "    \n",
    "    def count_weekday_in_year(self,year, weekday):\n",
    "        \n",
    "        if (weekday <0 or weekday >=6):\n",
    "            raise ValueError(\"Please provide a value between 0 and 6\")\n",
    "        \n",
    "        c = cal.Calendar()\n",
    "        \n",
    "        nunmber_of_weekdays = 0\n",
    "        \n",
    "        for month in range(1,13):\n",
    "            for data in c.monthdays2calendar(year,month):\n",
    "                if data[weekday][0]!=0:\n",
    "                    nunmber_of_weekdays +=1  \n",
    "    \n",
    "        return nunmber_of_weekdays\n",
    "\n",
    "my_cal = MyCalendar()\n",
    "my_cal.count_weekday_in_year(2024,2)"
   ]
  },
  {
   "cell_type": "markdown",
   "metadata": {},
   "source": [
    "# DateTime Module\n",
    "\n",
    "Provide classes for working with date and time for various purposes including event logging, tracking changes in the database,\n",
    "data validation and storing important information."
   ]
  },
  {
   "cell_type": "markdown",
   "metadata": {},
   "source": [
    "#### creating the date object\n",
    "\n",
    "Objects of this class represent a date consisting of the year, month, and day."
   ]
  },
  {
   "cell_type": "code",
   "execution_count": 114,
   "metadata": {},
   "outputs": [
    {
     "name": "stdout",
     "output_type": "stream",
     "text": [
      "Today 2024-02-08\n",
      "Year 2024 Month 2 Day 8\n",
      "2024-01-01\n"
     ]
    }
   ],
   "source": [
    "from datetime import date\n",
    "\n",
    "today = date.today()\n",
    "\n",
    "print(\"Today\", today)\n",
    "print(\"Year\", today.year,\"Month\", today.month, \"Day\", today.day)\n",
    "\n",
    "# to create a date object\n",
    "\n",
    "my_date = date(2024,1,1)\n",
    "print(my_date)"
   ]
  },
  {
   "cell_type": "markdown",
   "metadata": {},
   "source": [
    "#### creating a date object from a timestamp\n",
    "\n",
    "The `date` class gives us the ability to create a date object from a timestamp.\n",
    "\n",
    "In Unix, the timestamp expresses the number of seconds since January 1, 1970, 00:00:00 (UTC). This date is called the Unix epoch, because this is when the counting of time began on Unix systems.\n",
    "\n",
    "The timestamp is actually the difference between a particular date (including time) and January 1, 1970, 00:00:00 (UTC), expressed in seconds.\n",
    "\n",
    "To create a date object from a timestamp, we must pass a Unix timestamp to the `fromtimestamp` method."
   ]
  },
  {
   "cell_type": "code",
   "execution_count": 117,
   "metadata": {},
   "outputs": [
    {
     "name": "stdout",
     "output_type": "stream",
     "text": [
      "Timestamp:  1707438731.021304\n",
      "2024-02-08\n"
     ]
    }
   ],
   "source": [
    "import time\n",
    "\n",
    "timestamp = time.time()\n",
    "print(\"Timestamp: \", timestamp)\n",
    "\n",
    "d = date.fromtimestamp(timestamp)\n",
    "print(d)"
   ]
  },
  {
   "cell_type": "markdown",
   "metadata": {},
   "source": [
    "#### creating a date object using the ISO format\n",
    "\n",
    "The datetime module provides several methods to create a date object. One of them is the fromisoformat method, which takes a date in the `YYYY-MM-DD` format compliant with the ISO 8601 standard.\n",
    "\n",
    "The `ISO 8601` standard defines how the date and time are represented. It's often used, so it's worth taking a moment to familiarize yourself with it. "
   ]
  },
  {
   "cell_type": "code",
   "execution_count": 128,
   "metadata": {},
   "outputs": [
    {
     "name": "stdout",
     "output_type": "stream",
     "text": [
      "2013-12-31\n",
      "1992-06-09\n",
      "1993-06-09\n"
     ]
    }
   ],
   "source": [
    "d = date.fromisoformat(\"2013-12-31\")    # YYYY-MM-DD\n",
    "print(d)\n",
    "\n",
    "d = date(1992,6,9)\n",
    "print(d)\n",
    "\n",
    "d = d.replace(year=1993,month=6, day=9)  # optional parameters\n",
    "print(d)"
   ]
  },
  {
   "cell_type": "markdown",
   "metadata": {},
   "source": [
    "#### getting the day of the week"
   ]
  },
  {
   "cell_type": "code",
   "execution_count": 132,
   "metadata": {},
   "outputs": [
    {
     "name": "stdout",
     "output_type": "stream",
     "text": [
      "3\n",
      "4\n"
     ]
    }
   ],
   "source": [
    "d = date(2024,2,8)\n",
    "\n",
    "print(d.weekday())     # 0 is Monday & 6 is Sunday\n",
    "\n",
    "print(d.isoweekday())   # 1 is Monday & 7 is Sunday"
   ]
  },
  {
   "cell_type": "markdown",
   "metadata": {},
   "source": [
    "#### creating the time object\n",
    "\n",
    "`time(hour {0:23}, minute {0:59}, second {0:59}, microsecond {0:1000000}, tzinfo {tzinfo subclass object or none}, fold {0|1})`"
   ]
  },
  {
   "cell_type": "code",
   "execution_count": 133,
   "metadata": {},
   "outputs": [
    {
     "name": "stdout",
     "output_type": "stream",
     "text": [
      "Time: 14:53:20.000001\n",
      "Hour: 14\n",
      "Minute: 53\n",
      "Second: 20\n",
      "Microsecond: 1\n"
     ]
    }
   ],
   "source": [
    "# using the time class\n",
    "\n",
    "from datetime import time\n",
    "\n",
    "t = time(14, 53, 20, 1)\n",
    "\n",
    "print(\"Time:\", t)\n",
    "print(\"Hour:\", t.hour)\n",
    "print(\"Minute:\", t.minute)\n",
    "print(\"Second:\", t.second)\n",
    "print(\"Microsecond:\", t.microsecond)"
   ]
  },
  {
   "cell_type": "code",
   "execution_count": 134,
   "metadata": {},
   "outputs": [
    {
     "name": "stdout",
     "output_type": "stream",
     "text": [
      "I'm very tired. I have to take a nap. See you later.\n",
      "I slept well! I feel great!\n"
     ]
    }
   ],
   "source": [
    "# using the time module\n",
    "\n",
    "import time\n",
    "\n",
    "class Student:\n",
    "    def take_nap(self, seconds):\n",
    "        print(\"I'm very tired. I have to take a nap. See you later.\")\n",
    "        time.sleep(seconds)     # important part that suspends the program execution\n",
    "        print(\"I slept well! I feel great!\")\n",
    "\n",
    "student = Student()\n",
    "student.take_nap(5)"
   ]
  },
  {
   "cell_type": "markdown",
   "metadata": {},
   "source": [
    "#### ctime() function\n",
    "\n",
    "The time module provides a function called ctime, which converts the time in seconds since January 1, 1970 (Unix epoch) to a string."
   ]
  },
  {
   "cell_type": "code",
   "execution_count": 136,
   "metadata": {},
   "outputs": [
    {
     "name": "stdout",
     "output_type": "stream",
     "text": [
      "Mon Nov  4 09:53:00 2019\n",
      "Thu Feb  8 19:52:32 2024\n"
     ]
    }
   ],
   "source": [
    "import time\n",
    "\n",
    "timestamp = 1572879180\n",
    "print(time.ctime(timestamp))\n",
    "\n",
    "print(time.ctime())     # returns the current time"
   ]
  },
  {
   "cell_type": "markdown",
   "metadata": {},
   "source": [
    "#### gmtime() and localtime() functions\n",
    "\n",
    "The _struct_time_ class also allows access to values using indexes. Index 0 returns the value in tm_year, while 8 returns the value in tm_isdst."
   ]
  },
  {
   "cell_type": "code",
   "execution_count": 137,
   "metadata": {},
   "outputs": [
    {
     "name": "stdout",
     "output_type": "stream",
     "text": [
      "time.struct_time(tm_year=2019, tm_mon=11, tm_mday=4, tm_hour=14, tm_min=53, tm_sec=0, tm_wday=0, tm_yday=308, tm_isdst=0)\n",
      "time.struct_time(tm_year=2019, tm_mon=11, tm_mday=4, tm_hour=9, tm_min=53, tm_sec=0, tm_wday=0, tm_yday=308, tm_isdst=0)\n"
     ]
    }
   ],
   "source": [
    "import time\n",
    "\n",
    "timestamp = 1572879180\n",
    "print(time.gmtime(timestamp))       # returns struct_time in UTC\n",
    "print(time.localtime(timestamp))    # returns struct_time in localtime\n",
    "    "
   ]
  },
  {
   "cell_type": "markdown",
   "metadata": {},
   "source": [
    "#### asctime() and mktime() functions\n",
    "\n",
    "asctime() - converts a struct_time object or a tuple to a string.\n",
    "mktime() - converts a struct_time object or a tuple that expresses the local time to the number of seconds since the Unix epoch.\n"
   ]
  },
  {
   "cell_type": "code",
   "execution_count": 1,
   "metadata": {},
   "outputs": [
    {
     "name": "stdout",
     "output_type": "stream",
     "text": [
      "Mon Nov  4 14:53:00 2019\n",
      "1572897180.0\n"
     ]
    }
   ],
   "source": [
    "import time\n",
    "\n",
    "timestamp = 1572879180\n",
    "st = time.gmtime(timestamp)\n",
    "\n",
    "print(time.asctime(st))\n",
    "print(time.mktime((2019, 11, 4, 14, 53, 0, 0, 308, 0)))"
   ]
  },
  {
   "cell_type": "markdown",
   "metadata": {},
   "source": [
    "#### creating datetime objects\n",
    "\n",
    "`datetime(year, month, day, hour, minute, second, microsecond, tzinfo, fold)`"
   ]
  },
  {
   "cell_type": "code",
   "execution_count": 10,
   "metadata": {},
   "outputs": [
    {
     "name": "stdout",
     "output_type": "stream",
     "text": [
      "2024-02-08 20:20:20.000001\n"
     ]
    }
   ],
   "source": [
    "from datetime import datetime\n",
    "print(datetime(2024,2,8,20,20,20,1))"
   ]
  },
  {
   "cell_type": "markdown",
   "metadata": {},
   "source": [
    "#### getting current date and time\n",
    "\n",
    "- today() — returns the current local date and time with the tzinfo attribute set to None;\n",
    "- now() — returns the current local date and time the same as the today method, unless we pass the optional argument tz to it. The argument of this method must be an object of the tzinfo subclass;\n",
    "- utcnow() — returns the current UTC date and time with the tzinfo attribute set to None."
   ]
  },
  {
   "cell_type": "code",
   "execution_count": 15,
   "metadata": {},
   "outputs": [
    {
     "name": "stdout",
     "output_type": "stream",
     "text": [
      "today: 2024-02-08 20:27:37.139713\n",
      "now: 2024-02-08 20:27:37.139712\n",
      "utcnow: 2024-02-09 01:27:37.139712\n"
     ]
    },
    {
     "name": "stderr",
     "output_type": "stream",
     "text": [
      "C:\\Users\\nelso\\AppData\\Local\\Temp\\ipykernel_24488\\2652129728.py:5: DeprecationWarning: datetime.datetime.utcnow() is deprecated and scheduled for removal in a future version. Use timezone-aware objects to represent datetimes in UTC: datetime.datetime.now(datetime.UTC).\n",
      "  print(\"utcnow:\", datetime.utcnow())\n"
     ]
    }
   ],
   "source": [
    "from datetime import datetime\n",
    "\n",
    "print(\"today:\", datetime.today())\n",
    "print(\"now:\", datetime.now())\n",
    "print(\"utcnow:\", datetime.utcnow())"
   ]
  },
  {
   "cell_type": "markdown",
   "metadata": {},
   "source": [
    "#### getting timestamp\n",
    "\n",
    "The timestamp method returns a float value expressing the number of seconds elapsed between the date and time indicated by the datetime object and January 1, 1970, 00:00:00 (UTC)."
   ]
  },
  {
   "cell_type": "code",
   "execution_count": 16,
   "metadata": {},
   "outputs": [
    {
     "name": "stdout",
     "output_type": "stream",
     "text": [
      "Timestamp: 1601837700.0\n"
     ]
    }
   ],
   "source": [
    "from datetime import datetime\n",
    "\n",
    "dt = datetime(2020, 10, 4, 14, 55)\n",
    "print(\"Timestamp:\", dt.timestamp())\n",
    "    "
   ]
  },
  {
   "cell_type": "markdown",
   "metadata": {},
   "source": [
    "#### date and time formatting"
   ]
  },
  {
   "cell_type": "code",
   "execution_count": 19,
   "metadata": {},
   "outputs": [
    {
     "name": "stdout",
     "output_type": "stream",
     "text": [
      "2020/01/04\n",
      "14:53:00\n",
      "20/November/04 14:53:00\n"
     ]
    }
   ],
   "source": [
    "from datetime import date\n",
    "\n",
    "'''\n",
    "The strftime method takes only one argument in the form of a string specifying a format that can consist of directives.\n",
    "'''\n",
    "\n",
    "d = date(2020, 1, 4)\n",
    "print(d.strftime('%Y/%m/%d')) # here the argument passed is a directive\n",
    "\n",
    "\n",
    "from datetime import time\n",
    "from datetime import datetime\n",
    "\n",
    "t = time(14, 53)\n",
    "print(t.strftime(\"%H:%M:%S\"))\n",
    "\n",
    "dt = datetime(2020, 11, 4, 14, 53)\n",
    "print(dt.strftime(\"%y/%B/%d %H:%M:%S\"))"
   ]
  },
  {
   "cell_type": "markdown",
   "metadata": {},
   "source": [
    "#### strftime() function in the time module\n",
    "\n",
    "in additin to the format argument, it can take a tuple or struct_time object"
   ]
  },
  {
   "cell_type": "code",
   "execution_count": 20,
   "metadata": {},
   "outputs": [
    {
     "name": "stdout",
     "output_type": "stream",
     "text": [
      "2019/11/04 14:53:00\n",
      "2024/02/08 20:41:55\n"
     ]
    }
   ],
   "source": [
    "import time\n",
    "\n",
    "timestamp = 1572879180\n",
    "st = time.gmtime(timestamp)\n",
    "\n",
    "print(time.strftime(\"%Y/%m/%d %H:%M:%S\", st))\n",
    "print(time.strftime(\"%Y/%m/%d %H:%M:%S\"))"
   ]
  },
  {
   "cell_type": "markdown",
   "metadata": {},
   "source": [
    "#### strptime() method\n",
    "it creates a datetime object from a string representing a date and time."
   ]
  },
  {
   "cell_type": "code",
   "execution_count": 24,
   "metadata": {},
   "outputs": [
    {
     "name": "stdout",
     "output_type": "stream",
     "text": [
      "2019-11-04 14:53:00\n",
      "time.struct_time(tm_year=2019, tm_mon=11, tm_mday=4, tm_hour=14, tm_min=53, tm_sec=0, tm_wday=0, tm_yday=308, tm_isdst=-1)\n"
     ]
    }
   ],
   "source": [
    "from datetime import datetime\n",
    "\n",
    "print(datetime.strptime(\"2019/11/04 14:53:00\", \"%Y/%m/%d %H:%M:%S\"))\n",
    "\n",
    "import time\n",
    "\n",
    "print(time.strptime(\"2019/11/04 14:53:00\", \"%Y/%m/%d %H:%M:%S\"))"
   ]
  },
  {
   "cell_type": "markdown",
   "metadata": {},
   "source": [
    "#### date and time operations"
   ]
  },
  {
   "cell_type": "code",
   "execution_count": 25,
   "metadata": {},
   "outputs": [
    {
     "name": "stdout",
     "output_type": "stream",
     "text": [
      "366 days, 0:00:00\n",
      "365 days, 9:07:00\n"
     ]
    }
   ],
   "source": [
    "from datetime import date\n",
    "from datetime import datetime\n",
    "\n",
    "d1 = date(2020, 11, 4)\n",
    "d2 = date(2019, 11, 4)\n",
    "\n",
    "print(d1 - d2)\n",
    "\n",
    "dt1 = datetime(2020, 11, 4, 0, 0, 0)\n",
    "dt2 = datetime(2019, 11, 4, 14, 53, 0)\n",
    "\n",
    "print(dt1 - dt2)"
   ]
  },
  {
   "cell_type": "markdown",
   "metadata": {},
   "source": [
    "#### time delta operations"
   ]
  },
  {
   "cell_type": "code",
   "execution_count": 27,
   "metadata": {},
   "outputs": [
    {
     "name": "stdout",
     "output_type": "stream",
     "text": [
      "16 days, 3:00:00\n",
      "Days: 16\n",
      "Seconds: 10800\n",
      "Microseconds: 0\n"
     ]
    }
   ],
   "source": [
    "from datetime import timedelta\n",
    "\n",
    "delta = timedelta(weeks=2, days=2, hours=3)\n",
    "print(delta)\n",
    "\n",
    "delta = timedelta(weeks=2, days=2, hours=3)\n",
    "print(\"Days:\", delta.days)\n",
    "print(\"Seconds:\", delta.seconds)\n",
    "print(\"Microseconds:\", delta.microseconds)"
   ]
  },
  {
   "cell_type": "code",
   "execution_count": 28,
   "metadata": {},
   "outputs": [
    {
     "name": "stdout",
     "output_type": "stream",
     "text": [
      "16 days, 2:00:00\n",
      "32 days, 4:00:00\n",
      "2019-11-05\n",
      "2019-11-05 18:53:00\n"
     ]
    }
   ],
   "source": [
    "from datetime import timedelta\n",
    "from datetime import date\n",
    "from datetime import datetime\n",
    "\n",
    "delta = timedelta(weeks=2, days=2, hours=2)\n",
    "print(delta)\n",
    "\n",
    "delta2 = delta * 2\n",
    "print(delta2)\n",
    "\n",
    "d = date(2019, 10, 4) + delta2\n",
    "print(d)\n",
    "\n",
    "dt = datetime(2019, 10, 4, 14, 53) + delta2\n",
    "print(dt)"
   ]
  },
  {
   "cell_type": "code",
   "execution_count": null,
   "metadata": {},
   "outputs": [],
   "source": [
    "'''\n",
    "Write a program that creates a datetime object for November 4, 2020 , 14:53:00. \n",
    "The object created should call the strftime method with the appropriate format to display the following result:\n",
    "\n",
    "2020/11/04 14:53:00\n",
    "20/November/04 14:53:00 PM\n",
    "Wed, 2020 Nov 04\n",
    "Wednesday, 2020 November 04\n",
    "Weekday: 3\n",
    "Day of the year: 309\n",
    "Week number of the year: 44\n",
    "'''"
   ]
  },
  {
   "cell_type": "code",
   "execution_count": 68,
   "metadata": {},
   "outputs": [
    {
     "name": "stdout",
     "output_type": "stream",
     "text": [
      "11:27:22\n"
     ]
    }
   ],
   "source": [
    "from datetime import datetime\n",
    " \n",
    "datetime_1 = datetime(2019, 11, 27, 11, 27, 22)\n",
    "datetime_2 = datetime(2019, 11, 27, 0, 0, 0)\n",
    " \n",
    "print(datetime_1 - datetime_2)"
   ]
  }
 ],
 "metadata": {
  "kernelspec": {
   "display_name": "Python 3",
   "language": "python",
   "name": "python3"
  },
  "language_info": {
   "codemirror_mode": {
    "name": "ipython",
    "version": 3
   },
   "file_extension": ".py",
   "mimetype": "text/x-python",
   "name": "python",
   "nbconvert_exporter": "python",
   "pygments_lexer": "ipython3",
   "version": "3.12.1"
  }
 },
 "nbformat": 4,
 "nbformat_minor": 2
}
