{
 "cells": [
  {
   "cell_type": "markdown",
   "metadata": {},
   "source": [
    "#### OOPS CONCEPTS"
   ]
  },
  {
   "cell_type": "markdown",
   "metadata": {},
   "source": [
    "### Classes"
   ]
  },
  {
   "cell_type": "code",
   "execution_count": null,
   "metadata": {},
   "outputs": [],
   "source": [
    "class Stack:\n",
    "    \n",
    "    def __init__(self):  # defining the constructor that will help to instantiate the object\n",
    "        # adding a new property to the class is done by the constructor\n",
    "        print(\"Intitiating the constructor\")\n",
    "        self.__stack_list = []  # names starting with '__' will make them private\n",
    "        \n",
    "    # self has to be passed mandatorily as the first parameter to all the methods in the calls\n",
    "    # self is generally referred, but it can be anything that makes sense\n",
    "    # 'this' also works\n",
    "    def push(self,val):                 \n",
    "        self.__stack_list.append(val)\n",
    "        \n",
    "    def pop(self):\n",
    "        val = self.__stack_list[-1]\n",
    "        del self.__stack_list[-1]\n",
    "        return val\n",
    "    \n",
    "    def __getitem__(self):\n",
    "        return self.__stack_list\n",
    "\n",
    "stack_obj = Stack()     # instanting the constructor\n",
    "\n",
    "stack_obj.push(3)       # calling the method on the object\n",
    "stack_obj.push(3)       # calling the method on the object\n",
    "popped_value = stack_obj.__getitem__()\n",
    "\n",
    "print(popped_value)"
   ]
  },
  {
   "cell_type": "markdown",
   "metadata": {},
   "source": [
    "##### Overriding a class"
   ]
  },
  {
   "cell_type": "code",
   "execution_count": null,
   "metadata": {},
   "outputs": [],
   "source": [
    "class AddingStack(Stack):   # here, Stack is the superclass\n",
    "    \n",
    "    def __init__(self):\n",
    "        Stack.__init__(self)  # explicitly invoke a Superclass constructor  is mandatory\n",
    "        self.__sum = 0\n",
    "\n",
    "    def push(self,val):       # overriding the Superclass method\n",
    "        self.__sum += val\n",
    "        Stack.push(self,val)"
   ]
  },
  {
   "cell_type": "markdown",
   "metadata": {},
   "source": [
    "##### Instance variables"
   ]
  },
  {
   "cell_type": "code",
   "execution_count": null,
   "metadata": {},
   "outputs": [],
   "source": [
    "class ExampleClass:\n",
    "    \n",
    "    def __init__(self, val=1):\n",
    "        self.first = val\n",
    "    \n",
    "    def set_second(self, val):\n",
    "        self.second = val\n",
    "        \n",
    "\n",
    "example_object_1 = ExampleClass()\n",
    "example_object_2 = ExampleClass(2)\n",
    "\n",
    "example_object_2.set_second(3)\n",
    "\n",
    "example_object_3 = ExampleClass(4)\n",
    "example_object_3.set_second(5)\n",
    "example_object_3.third = 5\n",
    "\n",
    "\n",
    "print(example_object_1.__dict__)\n",
    "print(example_object_2.__dict__)\n",
    "print(example_object_3.__dict__)\n",
    "\n",
    "print(example_object_3.first)\n"
   ]
  },
  {
   "cell_type": "code",
   "execution_count": null,
   "metadata": {},
   "outputs": [],
   "source": [
    "class ExampleClass():\n",
    "     \n",
    "    def __init__(self, val=1):\n",
    "         self.__first = val         # makes the instance variable private\n",
    "        \n",
    "    '''\n",
    "    When Python sees that you want to add an instance variable to an object and you're going to \n",
    "    do it inside any of the object's methods, it mangles the operation in the following way:\n",
    "\n",
    "        it puts a class name before your name;\n",
    "        it puts an additional underscore at the beginning.\n",
    "    '''\n",
    "    \n",
    "    def set_second(self, val=1):\n",
    "         self.__second = val\n",
    "    \n",
    "        \n",
    "example_object_1 = ExampleClass()\n",
    "example_object_2 = ExampleClass(2)\n",
    "\n",
    "example_object_2.set_second(3)\n",
    "\n",
    "example_object_3 = ExampleClass(4)\n",
    "example_object_3.set_second(5)\n",
    "example_object_3.third = 5\n",
    "\n",
    "\n",
    "print(example_object_1.__dict__)\n",
    "print(example_object_2.__dict__)\n",
    "print(example_object_3.__dict__)\n",
    "\n"
   ]
  },
  {
   "cell_type": "markdown",
   "metadata": {},
   "source": [
    "##### Class variables"
   ]
  },
  {
   "cell_type": "code",
   "execution_count": 4,
   "metadata": {},
   "outputs": [
    {
     "name": "stdout",
     "output_type": "stream",
     "text": [
      "{'_ExampleClass__first': 1} 3\n",
      "{'_ExampleClass__first': 2} 3\n",
      "{'_ExampleClass__first': 3} 3\n"
     ]
    }
   ],
   "source": [
    "class ExampleClass:\n",
    "    \n",
    "    # a property which exists in just one copy and is stored outside any object\n",
    "    counter = 0\n",
    "    \n",
    "    def __init__(self,val=1):\n",
    "        self.__first = val\n",
    "        ExampleClass.counter += 1   # this increments the counter whenever the class gets instantiated\n",
    "\n",
    "\n",
    "example_object_1 = ExampleClass()\n",
    "example_object_2 = ExampleClass(2)\n",
    "example_object_3 = ExampleClass(3)\n",
    "\n",
    "print(example_object_1.__dict__,example_object_1.counter)\n",
    "print(example_object_2.__dict__,example_object_2.counter)\n",
    "print(example_object_3.__dict__,example_object_3.counter)"
   ]
  },
  {
   "cell_type": "code",
   "execution_count": 3,
   "metadata": {},
   "outputs": [
    {
     "name": "stdout",
     "output_type": "stream",
     "text": [
      "{'__module__': '__main__', 'varia': 1, '__init__': <function ExampleClass1.__init__ at 0x000002258485C220>, '__dict__': <attribute '__dict__' of 'ExampleClass1' objects>, '__weakref__': <attribute '__weakref__' of 'ExampleClass1' objects>, '__doc__': None}\n",
      "{'__module__': '__main__', 'varia': 2, '__init__': <function ExampleClass1.__init__ at 0x000002258485C220>, '__dict__': <attribute '__dict__' of 'ExampleClass1' objects>, '__weakref__': <attribute '__weakref__' of 'ExampleClass1' objects>, '__doc__': None}\n",
      "{}\n"
     ]
    }
   ],
   "source": [
    "class ExampleClass1:\n",
    "    varia = 1\n",
    "    def __init__(self, val):\n",
    "        ExampleClass1.varia = val\n",
    "\n",
    "\n",
    "print(ExampleClass1.__dict__)       # this will have 1 since it is getting printed before instance creation\n",
    "example_object = ExampleClass1(2)\n",
    "\n",
    "print(ExampleClass1.__dict__)\n",
    "print(example_object.__dict__)"
   ]
  },
  {
   "cell_type": "markdown",
   "metadata": {},
   "source": [
    "##### Checking the existence of a variable in the class\n",
    "\n",
    "Since accessing an undefined variable in a call raises an AttributeError, we need to check it's existence using the below inbuilt method:\n",
    "\n",
    "`hasattr(example_object,'[variabe_name]')`"
   ]
  },
  {
   "cell_type": "code",
   "execution_count": 13,
   "metadata": {},
   "outputs": [
    {
     "name": "stdout",
     "output_type": "stream",
     "text": [
      "{'_VarExist__var': 4}\n",
      "4\n"
     ]
    }
   ],
   "source": [
    "class VarExist:\n",
    "    \n",
    "    def __init__(self,val):\n",
    "        self.__var = val\n",
    "\n",
    "obj = VarExist(4)\n",
    "\n",
    "print(obj.__dict__)\n",
    "print(obj._VarExist__var)\n",
    "# print(obj.var_not_exist)   # this will raise an AttributeError\n",
    "\n",
    "if (hasattr(obj,'var_not_exist')): print(obj.varNotExist)\n",
    "else: pass"
   ]
  },
  {
   "cell_type": "code",
   "execution_count": 14,
   "metadata": {},
   "outputs": [
    {
     "name": "stdout",
     "output_type": "stream",
     "text": [
      "{'alpha': 1, '_Sample__delta': 3, 'beta': 2}\n"
     ]
    }
   ],
   "source": [
    "class Sample:\n",
    "    gamma = 0 # Class variable.\n",
    "    def __init__(self):\n",
    " \n",
    "        self.alpha = 1 # Instance variable.\n",
    "        self.__delta = 3 # Private instance variable.\n",
    " \n",
    " \n",
    "obj = Sample()\n",
    "obj.beta = 2 # Another instance variable (existing only inside the \"obj\" instance.)\n",
    "print(obj.__dict__)"
   ]
  },
  {
   "cell_type": "markdown",
   "metadata": {},
   "source": [
    "#### Methods\n",
    "\n",
    "- method is a function embedded inside a class.\n",
    "- method is obliged to have at least one parameter"
   ]
  },
  {
   "cell_type": "markdown",
   "metadata": {},
   "source": [
    "##### self parameter\n",
    "\n",
    "- self needs to be the explicit parameter for all the methods with the class"
   ]
  },
  {
   "cell_type": "code",
   "execution_count": 19,
   "metadata": {},
   "outputs": [
    {
     "name": "stdout",
     "output_type": "stream",
     "text": [
      "Method\n"
     ]
    }
   ],
   "source": [
    "class SampleClass:\n",
    "    \n",
    "    def method(self):\n",
    "        print(\"method\")\n",
    "        \n",
    "obj = SampleClass()\n",
    "obj.method()"
   ]
  },
  {
   "cell_type": "code",
   "execution_count": 22,
   "metadata": {},
   "outputs": [
    {
     "name": "stdout",
     "output_type": "stream",
     "text": [
      "Method 1\n",
      "Method 2\n"
     ]
    }
   ],
   "source": [
    "# adding more parameters other than self\n",
    "\n",
    "class SampleClass:\n",
    "    \n",
    "    def method(self, other_param):\n",
    "        print(\"Method :\", other_param)\n",
    "\n",
    "obj1 = SampleClass()\n",
    "obj2 = SampleClass()\n",
    "\n",
    "obj1.method(1)\n",
    "obj2.method(2)\n",
    "\n"
   ]
  },
  {
   "cell_type": "code",
   "execution_count": 26,
   "metadata": {},
   "outputs": [
    {
     "name": "stdout",
     "output_type": "stream",
     "text": [
      "Starting the automobile... Subaru Crosstrek 2022 manual\n"
     ]
    }
   ],
   "source": [
    "''' \n",
    "the 'self' parameter is used to \n",
    "to obtain access to the object's instance and class variables.\n",
    "to invoke other object/class methods from inside the class.\n",
    "'''\n",
    "\n",
    "class Automobile:\n",
    "    \n",
    "    gear_type = 'manual'\n",
    "    \n",
    "    def start(self,name):           \n",
    "        \n",
    "        print(\"Starting the automobile...\", name, self.gear_type)\n",
    "    \n",
    "    def automobile(self, name):\n",
    "        \n",
    "        self.start(name)\n",
    "        \n",
    "\n",
    "subaru = Automobile()\n",
    "\n",
    "subaru.automobile('Subaru Crosstrek 2022')"
   ]
  },
  {
   "cell_type": "markdown",
   "metadata": {},
   "source": [
    "##### __init__ method\n",
    "\n",
    "If you name a method like this: __init__, it won't be a regular method – it will be a constructor.\n",
    "\n",
    "If a class has a constructor, it is invoked automatically and implicitly when the object of the class is instantiated.\n",
    "\n",
    "The constructor:\n",
    "\n",
    "- is obliged to have the self parameter (it's set automatically, as usual)\n",
    "- may (but doesn't need to) have more parameters than just self; if this happens, the way in which the class name is used - to create the object must reflect the __init__ definition;\n",
    "- can be used to set up the object, i.e., properly initialize its internal state, create instance variables, instantiate - any other objects if their existence is needed, etc.\n",
    "\n",
    "Also, it\n",
    "- cannot return a value, as it is designed to return a newly created object and nothing else;\n",
    "- cannot be invoked directly either from the object or from inside the class"
   ]
  },
  {
   "cell_type": "code",
   "execution_count": 36,
   "metadata": {},
   "outputs": [
    {
     "name": "stdout",
     "output_type": "stream",
     "text": [
      "initiating the object via __init__ method()  7\n",
      "7\n",
      "visible\n",
      "Unable to invoke the hidden method, try the other way around!!\n",
      "hidden\n"
     ]
    }
   ],
   "source": [
    "class InitExample:\n",
    "    \n",
    "    def __init__(self, value=None):\n",
    "        self.var = value\n",
    "        print(\"initiating the object via __init__ method() \", value)\n",
    "        \n",
    "    def visible(self):\n",
    "        print(\"visible\")\n",
    "    \n",
    "    def __hidden(self):\n",
    "        print(\"hidden\")\n",
    "    \n",
    "init_example = InitExample(7)\n",
    "print(init_example.var)\n",
    "\n",
    "init_example.visible()\n",
    "\n",
    "try:\n",
    "    init_example.hidden()\n",
    "except Exception:\n",
    "    print(\"Unable to invoke the hidden method, try the other way around!!\")\n",
    "    \n",
    "\n",
    "init_example._InitExample__hidden()\n",
    "    "
   ]
  },
  {
   "cell_type": "markdown",
   "metadata": {},
   "source": [
    "#### Built-in properties"
   ]
  },
  {
   "cell_type": "markdown",
   "metadata": {},
   "source": [
    "##### \\_\\_name__ property\n",
    "\n",
    "- Another built-in property worth mentioning is __name__, which is a string.\n",
    "\n",
    "- The property contains the name of the class. It's nothing exciting, just a string.\n",
    "\n",
    "- Note: the __name__ attribute is absent from the object – it exists only inside classes. If you want to find the class of a particular object, you can use a function named type(),"
   ]
  },
  {
   "cell_type": "code",
   "execution_count": 39,
   "metadata": {},
   "outputs": [
    {
     "name": "stdout",
     "output_type": "stream",
     "text": [
      "Car\n",
      "Car\n"
     ]
    }
   ],
   "source": [
    "class Car:\n",
    "    \n",
    "    def make(self, name = None):\n",
    "        self.make = name\n",
    "        print(name, \" is the make\")\n",
    "\n",
    "print(Car.__name__)\n",
    "\n",
    "benz = Car()\n",
    "\n",
    "print(type(benz).__name__)\n"
   ]
  },
  {
   "cell_type": "markdown",
   "metadata": {},
   "source": [
    "##### \\_\\_module__ property\n",
    "\n",
    "- stores the name of the module which contains the definition of the class."
   ]
  },
  {
   "cell_type": "code",
   "execution_count": 41,
   "metadata": {},
   "outputs": [
    {
     "name": "stdout",
     "output_type": "stream",
     "text": [
      "__main__\n",
      "__main__\n"
     ]
    }
   ],
   "source": [
    "class Classy:\n",
    "    pass\n",
    "\n",
    "\n",
    "print(Classy.__module__)\n",
    "obj = Classy()\n",
    "print(obj.__module__)\n",
    "    "
   ]
  },
  {
   "cell_type": "markdown",
   "metadata": {},
   "source": [
    "##### \\_\\_bases__\n",
    "\n",
    "- a tuple that contains classes (not class names) which are direct superclasses for the class.\n",
    "\n",
    "- The order is the same as that used inside the class definition. Only classes have this.\n",
    "\n",
    "__a class without explicit superclasses points to an object (a predefined Python class) as its direct ancestor.__"
   ]
  },
  {
   "cell_type": "code",
   "execution_count": 42,
   "metadata": {},
   "outputs": [
    {
     "name": "stdout",
     "output_type": "stream",
     "text": [
      "( object )\n",
      "( object )\n",
      "( SuperOne SuperTwo )\n"
     ]
    }
   ],
   "source": [
    "class SuperOne:\n",
    "    pass\n",
    "\n",
    "class SuperTwo:\n",
    "    pass\n",
    "\n",
    "class Sub(SuperOne, SuperTwo):\n",
    "    pass\n",
    "\n",
    "def printBases(cls):\n",
    "    print('( ', end='')\n",
    "\n",
    "    for x in cls.__bases__:\n",
    "        print(x.__name__, end=' ')\n",
    "    print(')')\n",
    "\n",
    "\n",
    "printBases(SuperOne)\n",
    "printBases(SuperTwo)\n",
    "printBases(Sub)"
   ]
  },
  {
   "cell_type": "markdown",
   "metadata": {},
   "source": [
    "#### Reflection & Introspection\n",
    "\n",
    "- introspection, which is the ability of a program to examine the type or properties of an object at runtime;\n",
    "- reflection, which goes a step further, and is the ability of a program to manipulate the values, properties and/or functions of an object at runtime."
   ]
  },
  {
   "cell_type": "code",
   "execution_count": 43,
   "metadata": {},
   "outputs": [
    {
     "name": "stdout",
     "output_type": "stream",
     "text": [
      "{'a': 1, 'b': 2, 'i': 3, 'ireal': 3.5, 'integer': 4, 'z': 5}\n",
      "{'a': 1, 'b': 2, 'i': 4, 'ireal': 3.5, 'integer': 5, 'z': 5}\n"
     ]
    }
   ],
   "source": [
    "class MyClass:\n",
    "    pass\n",
    "\n",
    "\n",
    "obj = MyClass()\n",
    "obj.a = 1\n",
    "obj.b = 2\n",
    "obj.i = 3\n",
    "obj.ireal = 3.5\n",
    "obj.integer = 4\n",
    "obj.z = 5\n",
    "\n",
    "\n",
    "def incIntsI(obj):\n",
    "    for name in obj.__dict__.keys():        # scan the __dict__ attribute, looking for all attribute names\n",
    "        if name.startswith('i'):\n",
    "            val = getattr(obj, name)        # use the getattr() function to get its current value\n",
    "            if isinstance(val, int):        # check if the value is of type integer\n",
    "                setattr(obj, name, val + 1) # increment the property's value by making use of the setattr() function\n",
    "\n",
    "\n",
    "print(obj.__dict__)\n",
    "incIntsI(obj)\n",
    "print(obj.__dict__)"
   ]
  },
  {
   "cell_type": "code",
   "execution_count": 44,
   "metadata": {},
   "outputs": [
    {
     "name": "stdout",
     "output_type": "stream",
     "text": [
      "1\n"
     ]
    }
   ],
   "source": [
    "'''\n",
    "Question 1: The declaration of the Snake class is given below. Enrich the class with a method named increment(), adding 1 to the victims property.\n",
    "'''\n",
    "\n",
    "class Snake:\n",
    "    def __init__(self):\n",
    "        self.victims = 0\n",
    "        \n",
    "    def increment(self):\n",
    "        self.victims += 1\n",
    "        \n",
    "snake = Snake()\n",
    "\n",
    "snake.increment()\n",
    "\n",
    "print(snake.victims)"
   ]
  },
  {
   "cell_type": "code",
   "execution_count": 45,
   "metadata": {},
   "outputs": [
    {
     "name": "stdout",
     "output_type": "stream",
     "text": [
      "Python is a Snake\n",
      "Snake can be Python\n"
     ]
    }
   ],
   "source": [
    "class Snake:\n",
    "    pass\n",
    " \n",
    " \n",
    "class Python(Snake):\n",
    "    pass\n",
    " \n",
    " \n",
    "print(Python.__name__, 'is a', Snake.__name__)\n",
    "print(Python.__bases__[0].__name__, 'can be', Python.__name__)"
   ]
  },
  {
   "cell_type": "markdown",
   "metadata": {},
   "source": [
    "#### Inheritance\n",
    "\n",
    "Inheritance is a common practice (in object programming) of passing attributes and methods from the superclass (defined and existing) to a newly created class, called the subclass.\n",
    "\n",
    "In other words, inheritance is a way of building a new class, not from scratch, but by using an already defined repertoire of traits. The new class inherits (and this is the key) all the already existing equipment, but is able to add some new ones if needed."
   ]
  },
  {
   "cell_type": "markdown",
   "metadata": {},
   "source": [
    "###### \\_\\_str__ \n",
    "\n",
    "- String representation of the class"
   ]
  },
  {
   "cell_type": "code",
   "execution_count": 48,
   "metadata": {},
   "outputs": [
    {
     "name": "stdout",
     "output_type": "stream",
     "text": [
      "The Alchemist\n"
     ]
    }
   ],
   "source": [
    "class Book:\n",
    "    \n",
    "    def __init__(self, name):\n",
    "        self.name = name\n",
    "    \n",
    "    def __str__(self):\n",
    "        return self.name        # should return a string\n",
    "\n",
    "book = Book(\"The Alchemist\")\n",
    "print(book)"
   ]
  },
  {
   "cell_type": "markdown",
   "metadata": {},
   "source": [
    "##### issubclass()\n",
    "\n",
    "check if a particular class is a subclass of any other class\n",
    "\n",
    "`issubclass(SubClass, Class)`\n",
    "\n",
    "__each class is considered to be a subclass of itself.__"
   ]
  },
  {
   "cell_type": "code",
   "execution_count": 52,
   "metadata": {},
   "outputs": [
    {
     "data": {
      "text/plain": [
       "True"
      ]
     },
     "execution_count": 52,
     "metadata": {},
     "output_type": "execute_result"
    }
   ],
   "source": [
    "class Phone:\n",
    "    pass\n",
    "\n",
    "class Telephone(Phone):\n",
    "    pass\n",
    "\n",
    "class MobilePhone(Telephone):\n",
    "    pass\n",
    "\n",
    "issubclass(Telephone, Phone)"
   ]
  },
  {
   "cell_type": "markdown",
   "metadata": {},
   "source": [
    "##### isinstance()\n",
    "\n",
    "`isinstance(objectName, ClassName)`\n",
    "\n",
    "check if an object is an instance of a particular class"
   ]
  },
  {
   "cell_type": "code",
   "execution_count": 53,
   "metadata": {},
   "outputs": [
    {
     "name": "stdout",
     "output_type": "stream",
     "text": [
      "True\tFalse\tFalse\t\n",
      "True\tTrue\tFalse\t\n",
      "True\tTrue\tTrue\t\n"
     ]
    }
   ],
   "source": [
    "class Vehicle:\n",
    "    pass\n",
    "\n",
    "\n",
    "class LandVehicle(Vehicle):\n",
    "    pass\n",
    "\n",
    "\n",
    "class TrackedVehicle(LandVehicle):\n",
    "    pass\n",
    "\n",
    "\n",
    "my_vehicle = Vehicle()\n",
    "my_land_vehicle = LandVehicle()\n",
    "my_tracked_vehicle = TrackedVehicle()\n",
    "\n",
    "for obj in [my_vehicle, my_land_vehicle, my_tracked_vehicle]:\n",
    "    for cls in [Vehicle, LandVehicle, TrackedVehicle]:\n",
    "        print(isinstance(obj, cls), end=\"\\t\")\n",
    "    print()\n",
    "    "
   ]
  },
  {
   "cell_type": "markdown",
   "metadata": {},
   "source": [
    "##### is operator\n",
    "\n",
    "`object_one is object_two`\n",
    "\n",
    "The is operator checks whether two variables (object_one and object_two here) refer to the same object.\n",
    "\n",
    "Don't forget that variables don't store the objects themselves, but only the handles pointing to the internal Python memory.\n"
   ]
  },
  {
   "cell_type": "code",
   "execution_count": 56,
   "metadata": {},
   "outputs": [
    {
     "name": "stdout",
     "output_type": "stream",
     "text": [
      "False\n",
      "True\n",
      "True False\n"
     ]
    }
   ],
   "source": [
    "class Sample:\n",
    "    \n",
    "    def __init__(self, val):\n",
    "        self.value = val\n",
    "    \n",
    "obj1 = Sample(1)\n",
    "obj2 = Sample(2)\n",
    "obj3 = obj1\n",
    "obj3.value = 3\n",
    "\n",
    "print(obj1 is obj2)\n",
    "print(obj1 is obj3)\n",
    "\n",
    "## NOTE: Even though if strings have the same content, they point to two different places in memory\n",
    "\n",
    "string_1 = \"Eternal Mangeykuo \"\n",
    "string_2 = \"Eternal Mangeykuo Sharingan\"\n",
    "string_1 += \"Sharingan\"\n",
    "\n",
    "print(string_1==string_2, string_1 is string_2)"
   ]
  },
  {
   "cell_type": "markdown",
   "metadata": {},
   "source": [
    "##### How Python finds properties and methods"
   ]
  },
  {
   "cell_type": "code",
   "execution_count": 62,
   "metadata": {},
   "outputs": [
    {
     "name": "stdout",
     "output_type": "stream",
     "text": [
      "My value is 56\n"
     ]
    }
   ],
   "source": [
    "class Super:\n",
    "    \n",
    "    def __init__(self,val):\n",
    "        self.val = val\n",
    "    \n",
    "    def __str__(self):\n",
    "        return \"My value is \" + self.val\n",
    "\n",
    "class Sub(Super):           # Superclass is named explicitly, the same can be done using an object of the Super class.\n",
    "    \n",
    "    def __init__(self,val):\n",
    "        Super.__init__(self,val)        # note the 'self' being passed as the first argument\n",
    "obj_sub = Sub(\"56\")\n",
    "\n",
    "'''\n",
    "As the Sub class doesn't have a __str__ method, it calls the Super class' __str__ method. This happens via the constructor that we invoked\n",
    "within the sub class constructor.\n",
    "'''\n",
    "print(obj_sub) "
   ]
  },
  {
   "cell_type": "markdown",
   "metadata": {},
   "source": [
    "The super() function creates a context in which you don't have to (moreover, you mustn't) pass the self argument to the method being invoked – this is why it's possible to activate the superclass constructor using only one argument.\n",
    "\n",
    "Note: you can use this mechanism not only to invoke the superclass constructor, but also to get access to any of the resources available inside the superclass."
   ]
  },
  {
   "cell_type": "code",
   "execution_count": 60,
   "metadata": {},
   "outputs": [
    {
     "name": "stdout",
     "output_type": "stream",
     "text": [
      "My name is Andy.\n"
     ]
    }
   ],
   "source": [
    "# other way of accessing the Super Class\n",
    "\n",
    "class Super:\n",
    "    def __init__(self, name):\n",
    "        self.name = name\n",
    "\n",
    "    def __str__(self):\n",
    "        return \"My name is \" + self.name + \".\"\n",
    "\n",
    "\n",
    "class Sub(Super):\n",
    "    def __init__(self, name):\n",
    "        super().__init__(name)  # Superclass is not known, only the 'super()' function invokes the nearest Super class methods\n",
    "\n",
    "\n",
    "obj = Sub(\"Andy\")\n",
    "\n",
    "print(obj)\n",
    "    "
   ]
  },
  {
   "cell_type": "markdown",
   "metadata": {},
   "source": [
    "##### Multiple Inheritance\n",
    "\n",
    "Multiple inheritance occurs when a class has more than one superclass. Syntactically, such inheritance is presented as a comma-separated list of superclasses put inside parentheses after the new class name."
   ]
  },
  {
   "cell_type": "code",
   "execution_count": 63,
   "metadata": {},
   "outputs": [
    {
     "name": "stdout",
     "output_type": "stream",
     "text": [
      "10 11\n",
      "20 21\n"
     ]
    }
   ],
   "source": [
    "class SuperA:\n",
    "    var_a = 10\n",
    "    def fun_a(self):\n",
    "        return 11\n",
    " \n",
    " \n",
    "class SuperB:\n",
    "    var_b = 20\n",
    "    def fun_b(self):\n",
    "        return 21\n",
    " \n",
    " \n",
    "class Sub(SuperA, SuperB):\n",
    "    pass\n",
    " \n",
    "obj = Sub()\n",
    " \n",
    "print(obj.var_a, obj.fun_a())\n",
    "print(obj.var_b, obj.fun_b())"
   ]
  },
  {
   "cell_type": "code",
   "execution_count": 65,
   "metadata": {},
   "outputs": [
    {
     "name": "stdout",
     "output_type": "stream",
     "text": [
      "200 201\n"
     ]
    }
   ],
   "source": [
    "## EXAMPLE TO BE NOTE\n",
    "\n",
    "class Level1:\n",
    "        var = 100\n",
    "        def fun(self):\n",
    "            return 101\n",
    "    \n",
    "    \n",
    "class Level2(Level1):\n",
    "    var = 200\n",
    "    def fun(self):\n",
    "        return 201\n",
    "\n",
    "\n",
    "class Level3(Level2):\n",
    "    pass\n",
    "\n",
    "\n",
    "obj = Level3()\n",
    "\n",
    "print(obj.var, obj.fun())\n",
    "\n",
    "# The entity defined later (in the inheritance sense) overrides the same entity defined earlier."
   ]
  },
  {
   "cell_type": "markdown",
   "metadata": {},
   "source": [
    "Object Order Resolution\n",
    "\n",
    "Python looks for object components in the following order:\n",
    "\n",
    "- inside the object itself;\n",
    "- in its superclasses, from bottom to top;\n",
    "- __if there is more than one class on a particular inheritance path, Python scans them from left to right.__"
   ]
  },
  {
   "cell_type": "code",
   "execution_count": 66,
   "metadata": {},
   "outputs": [
    {
     "name": "stdout",
     "output_type": "stream",
     "text": [
      "L LL RR Left\n"
     ]
    }
   ],
   "source": [
    "class Left:\n",
    "    var = \"L\"\n",
    "    var_left = \"LL\"\n",
    "    def fun(self):\n",
    "        return \"Left\"\n",
    "\n",
    "\n",
    "class Right:\n",
    "    var = \"R\"\n",
    "    var_right = \"RR\"\n",
    "    def fun(self):\n",
    "        return \"Right\"\n",
    "\n",
    "\n",
    "class Sub(Left, Right):\n",
    "    pass\n",
    "\n",
    "\n",
    "obj = Sub()\n",
    "\n",
    "print(obj.var, obj.var_left, obj.var_right, obj.fun())"
   ]
  },
  {
   "cell_type": "markdown",
   "metadata": {},
   "source": [
    "##### Building a heirarchy of classes"
   ]
  },
  {
   "cell_type": "code",
   "execution_count": 67,
   "metadata": {},
   "outputs": [],
   "source": [
    "import time\n",
    "\n",
    "class TrackedVehicle:\n",
    "    def control_track(left, stop):\n",
    "        pass\n",
    "\n",
    "    def turn(left):\n",
    "        control_track(left, True)\n",
    "        time.sleep(0.25)\n",
    "        control_track(left, False)\n",
    "\n",
    "\n",
    "class WheeledVehicle:\n",
    "    def turn_front_wheels(left, on):\n",
    "        pass\n",
    "\n",
    "    def turn(left):\n",
    "        turn_front_wheels(left, True)\n",
    "        time.sleep(0.25)\n",
    "        turn_front_wheels(left, False)\n",
    "    "
   ]
  },
  {
   "cell_type": "markdown",
   "metadata": {},
   "source": [
    "##### inheritance\n",
    "inheritance extends a class's capabilities by adding new components and modifying existing ones; in other words, the complete recipe is contained inside the class itself and all its ancestors; the object takes all the class's belongings and makes use of them;"
   ]
  },
  {
   "cell_type": "code",
   "execution_count": null,
   "metadata": {},
   "outputs": [],
   "source": [
    "# above code is refactored to make us of inheritance and polymorphic inheritance\n",
    "import time\n",
    "\n",
    "class Vehicle:\n",
    "    def change_direction(left, on):         # abstract method\n",
    "        pass\n",
    "\n",
    "    def turn(left):                         # concrete method\n",
    "        change_direction(left, True)\n",
    "        time.sleep(0.25)\n",
    "        change_direction(left, False)\n",
    "\n",
    "\n",
    "class TrackedVehicle(Vehicle):\n",
    "    def control_track(left, stop):\n",
    "        pass\n",
    "\n",
    "    def change_direction(left, on):         # polymorphism\n",
    "        control_track(left, on)\n",
    "\n",
    "\n",
    "class WheeledVehicle(Vehicle):\n",
    "    def turn_front_wheels(left, on):\n",
    "        pass\n",
    "\n",
    "    def change_direction(left, on):\n",
    "        turn_front_wheels(left, on)"
   ]
  },
  {
   "cell_type": "markdown",
   "metadata": {},
   "source": [
    "##### composition\n",
    "\n",
    "composition projects a class as a container able to store and use other objects (derived from other classes) where each of the objects implements a part of a desired class's behavior."
   ]
  },
  {
   "cell_type": "code",
   "execution_count": 68,
   "metadata": {},
   "outputs": [
    {
     "name": "stdout",
     "output_type": "stream",
     "text": [
      "wheels:  True True\n",
      "wheels:  True False\n",
      "tracks:  False True\n",
      "tracks:  False False\n"
     ]
    }
   ],
   "source": [
    "import time\n",
    "\n",
    "class Tracks:\n",
    "    def change_direction(self, left, on):\n",
    "        print(\"tracks: \", left, on)\n",
    "\n",
    "\n",
    "class Wheels:\n",
    "    def change_direction(self, left, on):\n",
    "        print(\"wheels: \", left, on)\n",
    "\n",
    "\n",
    "class Vehicle:\n",
    "    def __init__(self, controller):\n",
    "        self.controller = controller\n",
    "\n",
    "    def turn(self, left):\n",
    "        self.controller.change_direction(left, True)\n",
    "        time.sleep(0.25)\n",
    "        self.controller.change_direction(left, False)\n",
    "\n",
    "\n",
    "wheeled = Vehicle(Wheels())\n",
    "tracked = Vehicle(Tracks())\n",
    "\n",
    "wheeled.turn(True)\n",
    "tracked.turn(False)"
   ]
  },
  {
   "attachments": {
    "image.png": {
     "image/png": "[encoded data removed]"
    }
   },
   "cell_type": "markdown",
   "metadata": {},
   "source": [
    "##### Method Order Resolution\n",
    "\n",
    "![image.png](attachment:image.png)"
   ]
  },
  {
   "cell_type": "code",
   "execution_count": 71,
   "metadata": {},
   "outputs": [
    {
     "ename": "TypeError",
     "evalue": "Cannot create a consistent method resolution\norder (MRO) for bases Top, Middle",
     "output_type": "error",
     "traceback": [
      "\u001b[1;31m---------------------------------------------------------------------------\u001b[0m",
      "\u001b[1;31mTypeError\u001b[0m                                 Traceback (most recent call last)",
      "Cell \u001b[1;32mIn[71], line 11\u001b[0m\n\u001b[0;32m      7\u001b[0m     \u001b[38;5;28;01mdef\u001b[39;00m \u001b[38;5;21mm_middle\u001b[39m(\u001b[38;5;28mself\u001b[39m):\n\u001b[0;32m      8\u001b[0m         \u001b[38;5;28mprint\u001b[39m(\u001b[38;5;124m\"\u001b[39m\u001b[38;5;124mmiddle\u001b[39m\u001b[38;5;124m\"\u001b[39m)\n\u001b[1;32m---> 11\u001b[0m \u001b[38;5;28;43;01mclass\u001b[39;49;00m\u001b[43m \u001b[49m\u001b[38;5;21;43;01mBottom\u001b[39;49;00m\u001b[43m(\u001b[49m\u001b[43m \u001b[49m\u001b[43mTop\u001b[49m\u001b[43m,\u001b[49m\u001b[43mMiddle\u001b[49m\u001b[43m)\u001b[49m\u001b[43m:\u001b[49m\n\u001b[0;32m     12\u001b[0m \u001b[43m    \u001b[49m\u001b[38;5;28;43;01mdef\u001b[39;49;00m\u001b[43m \u001b[49m\u001b[38;5;21;43mm_bottom\u001b[39;49m\u001b[43m(\u001b[49m\u001b[38;5;28;43mself\u001b[39;49m\u001b[43m)\u001b[49m\u001b[43m:\u001b[49m\n\u001b[0;32m     13\u001b[0m \u001b[43m        \u001b[49m\u001b[38;5;28;43mprint\u001b[39;49m\u001b[43m(\u001b[49m\u001b[38;5;124;43m\"\u001b[39;49m\u001b[38;5;124;43mbottom\u001b[39;49m\u001b[38;5;124;43m\"\u001b[39;49m\u001b[43m)\u001b[49m\n",
      "\u001b[1;31mTypeError\u001b[0m: Cannot create a consistent method resolution\norder (MRO) for bases Top, Middle"
     ]
    }
   ],
   "source": [
    "class Top:\n",
    "    def m_top(self):\n",
    "        print(\"top\")\n",
    "\n",
    "\n",
    "class Middle(Top):\n",
    "    def m_middle(self):\n",
    "        print(\"middle\")\n",
    "\n",
    "\n",
    "class Bottom( Top, Middle):\n",
    "    def m_bottom(self):\n",
    "        print(\"bottom\")\n",
    "\n",
    "\n",
    "object = Bottom()\n",
    "object.m_bottom()\n",
    "object.m_middle()\n",
    "object.m_top()\n",
    "    "
   ]
  },
  {
   "cell_type": "code",
   "execution_count": 73,
   "metadata": {},
   "outputs": [
    {
     "name": "stdout",
     "output_type": "stream",
     "text": [
      "bottom\n",
      "middle_right\n",
      "top\n"
     ]
    }
   ],
   "source": [
    "class Top:\n",
    "    def m_top(self):\n",
    "        print(\"top\")\n",
    "\n",
    "\n",
    "class Middle_Left(Top):\n",
    "    def m_middle(self):\n",
    "        print(\"middle_left\")\n",
    "\n",
    "\n",
    "class Middle_Right(Top):\n",
    "    def m_middle(self):\n",
    "        print(\"middle_right\")\n",
    "\n",
    "\n",
    "class Bottom( Middle_Right,Middle_Left):\n",
    "\tdef m_bottom(self):\n",
    "\t\tprint(\"bottom\")\n",
    "\n",
    "\n",
    "object = Bottom()\n",
    "object.m_bottom()\n",
    "object.m_middle()\n",
    "object.m_top()\n",
    "    "
   ]
  },
  {
   "cell_type": "markdown",
   "metadata": {},
   "source": [
    "#### OOPS & Exceptions"
   ]
  },
  {
   "cell_type": "markdown",
   "metadata": {},
   "source": [
    "##### Extending try - except\n",
    "\n",
    "- After try, exactly one brnach can be executed: either the except or else branch\n",
    "- The finally block is always executed (it finalizes the try-except block execution, hence its name), no matter what happened earlier, even when raising an exception, no matter whether this has been handled or not."
   ]
  },
  {
   "cell_type": "code",
   "execution_count": 74,
   "metadata": {},
   "outputs": [
    {
     "name": "stdout",
     "output_type": "stream",
     "text": [
      "Everything went fine\n",
      "It's time to say goodbye\n",
      "0.5\n",
      "Division failed\n",
      "It's time to say goodbye\n",
      "None\n"
     ]
    }
   ],
   "source": [
    "def reciprocal(n):\n",
    "    try:\n",
    "        n = 1 / n\n",
    "    except ZeroDivisionError:\n",
    "        print(\"Division failed\")\n",
    "        n = None\n",
    "    else:\n",
    "        print(\"Everything went fine\")\n",
    "    finally:\n",
    "        print(\"It's time to say goodbye\")\n",
    "        return n\n",
    "\n",
    "\n",
    "print(reciprocal(2))\n",
    "print(reciprocal(0))"
   ]
  },
  {
   "cell_type": "markdown",
   "metadata": {},
   "source": [
    "##### Exception Classes\n",
    "\n",
    "exceptions are classes. Furthermore, when an exception is raised, an object of the class is instantiated, and goes through all levels of program execution, looking for the except branch that is prepared to deal with it."
   ]
  },
  {
   "cell_type": "code",
   "execution_count": 75,
   "metadata": {},
   "outputs": [
    {
     "name": "stdout",
     "output_type": "stream",
     "text": [
      "invalid literal for int() with base 10: 'Hello!'\n",
      "invalid literal for int() with base 10: 'Hello!'\n"
     ]
    }
   ],
   "source": [
    "try:\n",
    "    i = int(\"Hello!\")\n",
    "except Exception as e:\n",
    "    print(e)\n",
    "    print(e.__str__())"
   ]
  },
  {
   "cell_type": "code",
   "execution_count": 76,
   "metadata": {},
   "outputs": [
    {
     "name": "stdout",
     "output_type": "stream",
     "text": [
      "BaseException\n",
      "   +---BaseExceptionGroup\n",
      "   |   +---ExceptionGroup\n",
      "   +---Exception\n",
      "   |   +---ArithmeticError\n",
      "   |   |   +---FloatingPointError\n",
      "   |   |   +---OverflowError\n",
      "   |   |   +---ZeroDivisionError\n",
      "   |   |   |   +---DivisionByZero\n",
      "   |   |   |   +---DivisionUndefined\n",
      "   |   |   +---DecimalException\n",
      "   |   |   |   +---Clamped\n",
      "   |   |   |   +---Rounded\n",
      "   |   |   |   |   +---Underflow\n",
      "   |   |   |   |   +---Overflow\n",
      "   |   |   |   +---Inexact\n",
      "   |   |   |   |   +---Underflow\n",
      "   |   |   |   |   +---Overflow\n",
      "   |   |   |   +---Subnormal\n",
      "   |   |   |   |   +---Underflow\n",
      "   |   |   |   +---DivisionByZero\n",
      "   |   |   |   +---FloatOperation\n",
      "   |   |   |   +---InvalidOperation\n",
      "   |   |   |   |   +---ConversionSyntax\n",
      "   |   |   |   |   +---DivisionImpossible\n",
      "   |   |   |   |   +---DivisionUndefined\n",
      "   |   |   |   |   +---InvalidContext\n",
      "   |   +---AssertionError\n",
      "   |   +---AttributeError\n",
      "   |   |   +---FrozenInstanceError\n",
      "   |   +---BufferError\n",
      "   |   +---EOFError\n",
      "   |   |   +---IncompleteReadError\n",
      "   |   +---ImportError\n",
      "   |   |   +---ModuleNotFoundError\n",
      "   |   |   |   +---PackageNotFoundError\n",
      "   |   |   +---ZipImportError\n",
      "   |   +---LookupError\n",
      "   |   |   +---IndexError\n",
      "   |   |   +---KeyError\n",
      "   |   |   |   +---NoSuchKernel\n",
      "   |   |   |   +---UnknownBackend\n",
      "   |   |   +---CodecRegistryError\n",
      "   |   +---MemoryError\n",
      "   |   +---NameError\n",
      "   |   |   +---UnboundLocalError\n",
      "   |   +---OSError\n",
      "   |   |   +---BlockingIOError\n",
      "   |   |   +---ChildProcessError\n",
      "   |   |   +---ConnectionError\n",
      "   |   |   |   +---BrokenPipeError\n",
      "   |   |   |   +---ConnectionAbortedError\n",
      "   |   |   |   +---ConnectionRefusedError\n",
      "   |   |   |   +---ConnectionResetError\n",
      "   |   |   |   |   +---RemoteDisconnected\n",
      "   |   |   +---FileExistsError\n",
      "   |   |   +---FileNotFoundError\n",
      "   |   |   +---InterruptedError\n",
      "   |   |   |   +---InterruptedSystemCall\n",
      "   |   |   +---IsADirectoryError\n",
      "   |   |   +---NotADirectoryError\n",
      "   |   |   +---PermissionError\n",
      "   |   |   +---ProcessLookupError\n",
      "   |   |   +---TimeoutError\n",
      "   |   |   +---UnsupportedOperation\n",
      "   |   |   +---herror\n",
      "   |   |   +---gaierror\n",
      "   |   |   +---SSLError\n",
      "   |   |   |   +---SSLCertVerificationError\n",
      "   |   |   |   +---SSLZeroReturnError\n",
      "   |   |   |   +---SSLWantWriteError\n",
      "   |   |   |   +---SSLWantReadError\n",
      "   |   |   |   +---SSLSyscallError\n",
      "   |   |   |   +---SSLEOFError\n",
      "   |   |   +---Error\n",
      "   |   |   |   +---SameFileError\n",
      "   |   |   +---SpecialFileError\n",
      "   |   |   +---ExecError\n",
      "   |   |   +---ReadError\n",
      "   |   |   +---URLError\n",
      "   |   |   |   +---HTTPError\n",
      "   |   |   |   +---ContentTooShortError\n",
      "   |   |   +---BadGzipFile\n",
      "   |   +---ReferenceError\n",
      "   |   +---RuntimeError\n",
      "   |   |   +---NotImplementedError\n",
      "   |   |   |   +---ZMQVersionError\n",
      "   |   |   |   +---StdinNotImplementedError\n",
      "   |   |   +---RecursionError\n",
      "   |   |   +---_DeadlockError\n",
      "   |   |   +---BrokenBarrierError\n",
      "   |   |   +---BrokenExecutor\n",
      "   |   |   |   +---BrokenThreadPool\n",
      "   |   |   +---SendfileNotAvailableError\n",
      "   |   |   +---BrokenBarrierError\n",
      "   |   |   +---VariableError\n",
      "   |   +---StopAsyncIteration\n",
      "   |   +---StopIteration\n",
      "   |   +---SyntaxError\n",
      "   |   |   +---IndentationError\n",
      "   |   |   |   +---TabError\n",
      "   |   +---SystemError\n",
      "   |   |   +---CodecRegistryError\n",
      "   |   +---TypeError\n",
      "   |   |   +---FloatOperation\n",
      "   |   |   +---MultipartConversionError\n",
      "   |   +---ValueError\n",
      "   |   |   +---UnicodeError\n",
      "   |   |   |   +---UnicodeDecodeError\n",
      "   |   |   |   +---UnicodeEncodeError\n",
      "   |   |   |   +---UnicodeTranslateError\n",
      "   |   |   +---UnsupportedOperation\n",
      "   |   |   +---JSONDecodeError\n",
      "   |   |   +---SSLCertVerificationError\n",
      "   |   |   +---Error\n",
      "   |   |   +---AddressValueError\n",
      "   |   |   +---NetmaskValueError\n",
      "   |   |   +---UnsupportedDigestmodError\n",
      "   |   |   +---IllegalMonthError\n",
      "   |   |   +---IllegalWeekdayError\n",
      "   |   |   +---ParserError\n",
      "   |   |   +---MessageDefect\n",
      "   |   |   |   +---NoBoundaryInMultipartDefect\n",
      "   |   |   |   +---StartBoundaryNotFoundDefect\n",
      "   |   |   |   +---CloseBoundaryNotFoundDefect\n",
      "   |   |   |   +---FirstHeaderLineIsContinuationDefect\n",
      "   |   |   |   +---MisplacedEnvelopeHeaderDefect\n",
      "   |   |   |   +---MissingHeaderBodySeparatorDefect\n",
      "   |   |   |   +---MultipartInvariantViolationDefect\n",
      "   |   |   |   +---InvalidMultipartContentTransferEncodingDefect\n",
      "   |   |   |   +---UndecodableBytesDefect\n",
      "   |   |   |   +---InvalidBase64PaddingDefect\n",
      "   |   |   |   +---InvalidBase64CharactersDefect\n",
      "   |   |   |   +---InvalidBase64LengthDefect\n",
      "   |   |   |   +---HeaderDefect\n",
      "   |   |   |   |   +---InvalidHeaderDefect\n",
      "   |   |   |   |   +---HeaderMissingRequiredValue\n",
      "   |   |   |   |   +---NonPrintableDefect\n",
      "   |   |   |   |   +---ObsoleteHeaderDefect\n",
      "   |   |   |   |   +---NonASCIILocalPartDefect\n",
      "   |   |   |   |   +---InvalidDateDefect\n",
      "   |   |   +---ClassNotFound\n",
      "   |   |   +---ClipboardEmpty\n",
      "   |   |   +---MacroToEdit\n",
      "   |   |   +---InvalidVersion\n",
      "   |   +---Warning\n",
      "   |   |   +---BytesWarning\n",
      "   |   |   +---DeprecationWarning\n",
      "   |   |   |   +---ProvisionalWarning\n",
      "   |   |   +---EncodingWarning\n",
      "   |   |   +---FutureWarning\n",
      "   |   |   |   +---ProvisionalCompleterWarning\n",
      "   |   |   +---ImportWarning\n",
      "   |   |   +---PendingDeprecationWarning\n",
      "   |   |   +---ResourceWarning\n",
      "   |   |   +---RuntimeWarning\n",
      "   |   |   |   +---ProactorSelectorThreadWarning\n",
      "   |   |   |   +---UnknownTimezoneWarning\n",
      "   |   |   +---SyntaxWarning\n",
      "   |   |   +---UnicodeWarning\n",
      "   |   |   +---UserWarning\n",
      "   |   |   |   +---GetPassWarning\n",
      "   |   |   |   +---FormatterWarning\n",
      "   |   |   +---DeprecatedTzFormatWarning\n",
      "   |   +---ExceptionGroup\n",
      "   |   +---_OptionError\n",
      "   |   +---_Error\n",
      "   |   +---error\n",
      "   |   +---Error\n",
      "   |   +---SubprocessError\n",
      "   |   |   +---CalledProcessError\n",
      "   |   |   +---TimeoutExpired\n",
      "   |   +---ZMQBaseError\n",
      "   |   |   +---ZMQError\n",
      "   |   |   |   +---ContextTerminated\n",
      "   |   |   |   +---Again\n",
      "   |   |   |   +---InterruptedSystemCall\n",
      "   |   |   +---ZMQBindError\n",
      "   |   |   +---NotDone\n",
      "   |   +---Error\n",
      "   |   +---error\n",
      "   |   +---PickleError\n",
      "   |   |   +---PicklingError\n",
      "   |   |   +---UnpicklingError\n",
      "   |   +---_Stop\n",
      "   |   +---TokenError\n",
      "   |   +---StopTokenizing\n",
      "   |   +---Error\n",
      "   |   |   +---CancelledError\n",
      "   |   |   +---InvalidStateError\n",
      "   |   +---_GiveupOnSendfile\n",
      "   |   +---Incomplete\n",
      "   |   +---ClassFoundException\n",
      "   |   +---EndOfBlock\n",
      "   |   +---InvalidStateError\n",
      "   |   +---LimitOverrunError\n",
      "   |   +---QueueEmpty\n",
      "   |   +---QueueFull\n",
      "   |   +---error\n",
      "   |   +---LZMAError\n",
      "   |   +---RegistryError\n",
      "   |   +---_GiveupOnFastCopy\n",
      "   |   +---TraitError\n",
      "   |   +---Empty\n",
      "   |   +---Full\n",
      "   |   +---ArgumentError\n",
      "   |   +---COMError\n",
      "   |   +---ReturnValueIgnoredError\n",
      "   |   +---ArgumentError\n",
      "   |   +---ArgumentTypeError\n",
      "   |   +---ConfigError\n",
      "   |   |   +---ConfigLoaderError\n",
      "   |   |   |   +---ArgumentError\n",
      "   |   |   +---ConfigFileNotFound\n",
      "   |   +---ConfigurableError\n",
      "   |   |   +---MultipleInstanceError\n",
      "   |   +---ApplicationError\n",
      "   |   +---InvalidPortNumber\n",
      "   |   +---NoIPAddresses\n",
      "   |   +---Error\n",
      "   |   +---BadZipFile\n",
      "   |   +---LargeZipFile\n",
      "   |   +---MessageError\n",
      "   |   |   +---MessageParseError\n",
      "   |   |   |   +---HeaderParseError\n",
      "   |   |   |   +---BoundaryError\n",
      "   |   |   +---MultipartConversionError\n",
      "   |   |   +---CharsetError\n",
      "   |   +---TraversalError\n",
      "   |   +---DuplicateKernelError\n",
      "   |   +---ErrorDuringImport\n",
      "   |   +---NotOneValueFound\n",
      "   |   +---KnownIssue\n",
      "   |   +---VerifierFailure\n",
      "   |   +---CannotEval\n",
      "   |   +---OptionError\n",
      "   |   +---BdbQuit\n",
      "   |   +---Restart\n",
      "   |   +---FindCmdError\n",
      "   |   +---HomeDirError\n",
      "   |   +---ProfileDirError\n",
      "   |   +---IPythonCoreError\n",
      "   |   |   +---TryNext\n",
      "   |   |   +---UsageError\n",
      "   |   |   +---StdinNotImplementedError\n",
      "   |   +---InputRejected\n",
      "   |   +---GetoptError\n",
      "   |   +---ErrorToken\n",
      "   |   +---PrefilterError\n",
      "   |   +---AliasError\n",
      "   |   |   +---InvalidAliasError\n",
      "   |   +---Error\n",
      "   |   |   +---InterfaceError\n",
      "   |   |   +---DatabaseError\n",
      "   |   |   |   +---InternalError\n",
      "   |   |   |   +---OperationalError\n",
      "   |   |   |   +---ProgrammingError\n",
      "   |   |   |   +---IntegrityError\n",
      "   |   |   |   +---DataError\n",
      "   |   |   |   +---NotSupportedError\n",
      "   |   +---Warning\n",
      "   |   +---SpaceInInput\n",
      "   |   +---DOMException\n",
      "   |   |   +---IndexSizeErr\n",
      "   |   |   +---DomstringSizeErr\n",
      "   |   |   +---HierarchyRequestErr\n",
      "   |   |   +---WrongDocumentErr\n",
      "   |   |   +---InvalidCharacterErr\n",
      "   |   |   +---NoDataAllowedErr\n",
      "   |   |   +---NoModificationAllowedErr\n",
      "   |   |   +---NotFoundErr\n",
      "   |   |   +---NotSupportedErr\n",
      "   |   |   +---InuseAttributeErr\n",
      "   |   |   +---InvalidStateErr\n",
      "   |   |   +---SyntaxErr\n",
      "   |   |   +---InvalidModificationErr\n",
      "   |   |   +---NamespaceErr\n",
      "   |   |   +---InvalidAccessErr\n",
      "   |   |   +---ValidationErr\n",
      "   |   +---ValidationError\n",
      "   |   +---EditReadOnlyBuffer\n",
      "   |   +---_Retry\n",
      "   |   +---InvalidLayoutError\n",
      "   |   +---HeightIsUnknownError\n",
      "   |   +---GuardRejection\n",
      "   |   +---ParserSyntaxError\n",
      "   |   +---InternalParseError\n",
      "   |   +---_PositionUpdatingFinished\n",
      "   |   +---SimpleGetItemNotFound\n",
      "   |   +---UncaughtAttributeError\n",
      "   |   +---HasNoContext\n",
      "   |   +---ParamIssue\n",
      "   |   +---_JediError\n",
      "   |   |   +---InternalError\n",
      "   |   |   +---WrongVersion\n",
      "   |   |   +---RefactoringError\n",
      "   |   +---OnErrorLeaf\n",
      "   |   +---InvalidPythonEnvironment\n",
      "   |   +---HTTPException\n",
      "   |   |   +---NotConnected\n",
      "   |   |   +---InvalidURL\n",
      "   |   |   +---UnknownProtocol\n",
      "   |   |   +---UnknownTransferEncoding\n",
      "   |   |   +---UnimplementedFileMode\n",
      "   |   |   +---IncompleteRead\n",
      "   |   |   +---ImproperConnectionState\n",
      "   |   |   |   +---CannotSendRequest\n",
      "   |   |   |   +---CannotSendHeader\n",
      "   |   |   |   +---ResponseNotReady\n",
      "   |   |   +---BadStatusLine\n",
      "   |   |   |   +---RemoteDisconnected\n",
      "   |   |   +---LineTooLong\n",
      "   |   +---InteractivelyDefined\n",
      "   |   +---KillEmbedded\n",
      "   |   +---Error\n",
      "   |   |   +---NoSuchProcess\n",
      "   |   |   |   +---ZombieProcess\n",
      "   |   |   +---AccessDenied\n",
      "   |   |   +---TimeoutExpired\n",
      "   |   +---Error\n",
      "   |   +---TimeoutExpired\n",
      "   |   +---TimeoutAbandoned\n",
      "   |   +---KeyReuseError\n",
      "   |   +---UnknownKeyError\n",
      "   |   +---LeakedCallbackError\n",
      "   |   +---BadYieldError\n",
      "   |   +---ReturnValueIgnoredError\n",
      "   |   +---Return\n",
      "   |   +---QueueEmpty\n",
      "   |   +---QueueFull\n",
      "   |   +---DebuggerInitializationError\n",
      "   |   +---ExpatError\n",
      "   |   +---Error\n",
      "   |   |   +---ProtocolError\n",
      "   |   |   +---ResponseError\n",
      "   |   |   +---Fault\n",
      "   |   +---_Error\n",
      "   |   +---UnableToResolveVariableException\n",
      "   |   +---InvalidTypeInArgsException\n",
      "   +---GeneratorExit\n",
      "   +---KeyboardInterrupt\n",
      "   +---SystemExit\n",
      "   +---CancelledError\n"
     ]
    }
   ],
   "source": [
    "def print_exception_tree(thisclass, nest = 0):\n",
    "    if nest > 1:\n",
    "        print(\"   |\" * (nest - 1), end=\"\")\n",
    "    if nest > 0:\n",
    "        print(\"   +---\", end=\"\")\n",
    "\n",
    "    print(thisclass.__name__)\n",
    "\n",
    "    for subclass in thisclass.__subclasses__():\n",
    "        print_exception_tree(subclass, nest + 1)\n",
    "\n",
    "\n",
    "print_exception_tree(BaseException)"
   ]
  },
  {
   "cell_type": "code",
   "execution_count": 77,
   "metadata": {},
   "outputs": [
    {
     "name": "stdout",
     "output_type": "stream",
     "text": [
      "Enemy warning! Red alert! High readiness! "
     ]
    }
   ],
   "source": [
    "import math\n",
    " \n",
    "class NewValueError(ValueError):\n",
    "    def __init__(self, name, color, state):\n",
    "        self.data = (name, color, state)\n",
    " \n",
    "try:\n",
    "    raise NewValueError(\"Enemy warning\", \"Red alert\", \"High readiness\")\n",
    "except NewValueError as nve:\n",
    "    for arg in nve.args:\n",
    "        print(arg, end='! ')"
   ]
  },
  {
   "cell_type": "code",
   "execution_count": 79,
   "metadata": {},
   "outputs": [
    {
     "name": "stdout",
     "output_type": "stream",
     "text": [
      "b\n"
     ]
    }
   ],
   "source": [
    "class A:\n",
    "    def a(self):\n",
    "        print('a')\n",
    " \n",
    " \n",
    "class B:\n",
    "    def a(self):\n",
    "        print('b')\n",
    " \n",
    " \n",
    "class C(B,A):\n",
    "    def c(self):\n",
    "        self.a()\n",
    " \n",
    " \n",
    "o = C()\n",
    "o.c()\n",
    " "
   ]
  }
 ],
 "metadata": {
  "kernelspec": {
   "display_name": "Python 3",
   "language": "python",
   "name": "python3"
  },
  "language_info": {
   "codemirror_mode": {
    "name": "ipython",
    "version": 3
   },
   "file_extension": ".py",
   "mimetype": "text/x-python",
   "name": "python",
   "nbconvert_exporter": "python",
   "pygments_lexer": "ipython3",
   "version": "3.12.1"
  }
 },
 "nbformat": 4,
 "nbformat_minor": 2
}
