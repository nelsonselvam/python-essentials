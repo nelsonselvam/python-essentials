{
 "cells": [
  {
   "cell_type": "markdown",
   "metadata": {},
   "source": [
    "# Reading and Writing Files\n",
    "\n",
    "Using the Canonical name of the file depends on the below factors:\n",
    "\n",
    "- case sensitivity\n",
    "- file system (Unix vs. Windows -  forward vs. backward slash) since backward slash is used for escaping\n",
    "\n",
    "`\"/dir/file\"` vs `\"dir\\file\"` are different but Python provides a way to read the files.\n",
    "\n",
    "Also, the program will not interact with the file directly rather it uses some abstract entities for these operations:\n",
    "`handles` or `streams`\n",
    "\n",
    "The operations performed with the abstract stream reflect the activities related to the physical file.\n",
    "\n",
    "- open the file   - connect the stream with the file        -   `open()`\n",
    "- close the file  - disconnecting the stream with the file  -   `close()`\n",
    "\n",
    "\n",
    "\n"
   ]
  },
  {
   "cell_type": "markdown",
   "metadata": {},
   "source": [
    "File reading vis Streams\n",
    "\n",
    "- declare an open mode : read or write\n",
    "- there are three basic modes : read, write, update\n",
    "    - read: a stream opened in this mode allows read operations only; trying to write to the stream will cause an exception (the exception is named UnsupportedOperation, which inherits OSError and ValueError, and comes from the io module);\n",
    "    - write: a stream opened in this mode allows write operations only; attempting to read the stream will cause the exception mentioned above;\n",
    "    - update: a stream opened in this mode allows both writes and reads.\n",
    "\n",
    "Python assumes that every file is hidden behind an object of an adequate class. This adequate class comes from either of the below:\n",
    "\n",
    "IOBase \n",
    "<br>  |\n",
    "<br>  |---> RawIOBase\n",
    "<br>  |---> BufferedIOBase\n",
    "<br>  |---> TextIOBase\n",
    "\n",
    "Based on the type of stream contents, all streams are divided into text and binary streams.\n",
    "\n",
    "Text Streams   - structured in lines, arranged in rows\n",
    "Binary Streams - sequence of bytes of any value for example image, audio, video etc.\n",
    "\n",
    "Key takeaways : '\n",
    "- Unix system line endings are marked by a single character `LF` (Line Feed)\n",
    "- Windows line endings are marked by a pair of characters `CRLF` (Carriage Return Line Feed)\n",
    "\n",
    "Python handles this issue internally by a process called a translation of newline characters occurs: when you read a line from the file, every pair of \\r\\n characters is replaced with a single \\n character, and vice versa; during write operations, every \\n character is replaced with a pair of \\r\\n characters.\n"
   ]
  },
  {
   "cell_type": "markdown",
   "metadata": {},
   "source": [
    "##### Operating a stream - stream.open() and stream.close()\n",
    "\n",
    "`streams = open(file, mode = 'r', encoding=None)`\n",
    "\n",
    "- the name of the function (open) speaks for itself; if the opening is successful, the function returns a stream object; otherwise, an exception is raised (e.g., FileNotFoundError if the file you're going to read doesn't exist);\n",
    "\n",
    "- the first parameter of the function (file) specifies the name of the file to be associated with the stream;\n",
    "\n",
    "- the second parameter (mode) specifies the open mode used for the stream; it's a string filled with a sequence of characters, and each of them has its own special meaning (more details soon);\n",
    "\n",
    "- the third parameter (encoding) specifies the encoding type (e.g., UTF-8 when working with text files)\n",
    "\n",
    "- the opening must be the very first operation performed on the stream."
   ]
  },
  {
   "attachments": {
    "image.png": {
     "image/png": "[encoded data removed]"
    }
   },
   "cell_type": "markdown",
   "metadata": {},
   "source": [
    "If there is a letter b at the end of the mode string, it means that the stream is to be opened in binary mode.\n",
    "\n",
    "If the mode string ends with a letter t, the stream is opened in text mode.\n",
    "\n",
    "Text mode is the default behaviour assumed when no binary/text mode specifier is used.\n",
    "\n",
    "Finally, the successful opening of a file will set the current file position (the virtual reading/writing head) before the first byte of the file if the mode is not a and after the last byte of the file if the mode is set to a.\n",
    "\n",
    "![image.png](attachment:image.png)\n",
    "\n",
    "\n",
    "``` python\n",
    "\n",
    "try:\n",
    "    stream = open(filename, 'w', None)\n",
    "    # do some processing\n",
    "    stream.close()\n",
    "except:\n",
    "    # handle exceptions here\n",
    "\n",
    "```"
   ]
  },
  {
   "cell_type": "code",
   "execution_count": 9,
   "metadata": {},
   "outputs": [
    {
     "name": "stdout",
     "output_type": "stream",
     "text": [
      "The file doesn't exist.\n"
     ]
    }
   ],
   "source": [
    "# this makes used of the except's 'as' function to handle the `errno` property \n",
    "import errno\n",
    "\n",
    "try:\n",
    "    s = open(\"c:/users/user/Desktop/file.txt\", \"wt\")\n",
    "    # Actual processing goes here.\n",
    "    s.close()\n",
    "except Exception as exc:\n",
    "    if exc.errno == errno.ENOENT:\n",
    "        print(\"The file doesn't exist.\")\n",
    "    elif exc.errno == errno.EMFILE:\n",
    "        print(\"You've opened too many files.\")\n",
    "    else:\n",
    "        print(\"The error number is:\", exc.errno)"
   ]
  },
  {
   "cell_type": "code",
   "execution_count": 8,
   "metadata": {},
   "outputs": [],
   "source": [
    "from os import strerror\n",
    "\n",
    "try:\n",
    "    s = open(\"C:/Users/nelso/OneDrive/Desktop/pylearn.txt\", \"wt\")\n",
    "    s.write(\"ETERNAL MANGEYKUO SHARIGAN\")\n",
    "    # Actual processing goes here.\n",
    "    s.close()\n",
    "except Exception as exc:\n",
    "    print(\"The file could not be opened:\", strerror(exc.errno))"
   ]
  },
  {
   "cell_type": "code",
   "execution_count": 10,
   "metadata": {},
   "outputs": [
    {
     "name": "stdout",
     "output_type": "stream",
     "text": [
      "Beautiful is better than ugly.\n",
      "Explicit is better than implicit.\n",
      "Simple is better than complex.\n",
      "Complex is better than complicated.\n",
      "\n",
      "Characters in file: 131\n"
     ]
    }
   ],
   "source": [
    "from os import strerror\n",
    "\n",
    "try:\n",
    "    counter = 0\n",
    "    stream = open('text.txt', \"rt\")\n",
    "    char = stream.read(1)       # try reading the first character\n",
    "    while char != '':\n",
    "        print(char, end='')\n",
    "        counter += 1\n",
    "        char = stream.read(1)   # try reading the next character\n",
    "    stream.close()\n",
    "    print(\"\\n\\nCharacters in file:\", counter)\n",
    "except IOError as e:\n",
    "    print(\"I/O error occurred: \", strerror(e.errno))\n",
    "    "
   ]
  },
  {
   "cell_type": "markdown",
   "metadata": {},
   "source": [
    "##### readline()\n",
    "\n",
    "If you want to treat the file's contents as a set of lines, not a bunch of characters, the readline() method will help you with that.\n",
    "\n",
    "The method tries to read a complete line of text from the file, and returns it as a string in the case of success. Otherwise, it returns an empty string."
   ]
  },
  {
   "cell_type": "code",
   "execution_count": 19,
   "metadata": {},
   "outputs": [
    {
     "name": "stdout",
     "output_type": "stream",
     "text": [
      "Beautiful is better than ugly.\n",
      "Explicit is better than implicit.\n",
      "Simple is better than complex.\n",
      "Complex is better than complicated.\n",
      "\n",
      "Characters in file: 131\n",
      "Lines in file:      4\n"
     ]
    }
   ],
   "source": [
    "from os import strerror\n",
    "\n",
    "try:\n",
    "    character_counter = line_counter = 0\n",
    "    stream = open('text.txt', 'rt')\n",
    "    line = stream.readline()\n",
    "    while line != '':\n",
    "        line_counter += 1\n",
    "        for char in line:\n",
    "            print(char, end='')\n",
    "            character_counter += 1\n",
    "        line = stream.readline()\n",
    "    stream.close()\n",
    "    print(\"\\n\\nCharacters in file:\", character_counter)\n",
    "    print(\"Lines in file:     \", line_counter)\n",
    "except IOError as e:\n",
    "    print(\"I/O error occurred:\", strerror(e.errno))"
   ]
  },
  {
   "cell_type": "markdown",
   "metadata": {},
   "source": [
    "##### readlines()\n",
    "\n",
    "The readlines() method, when invoked without arguments, tries to read all the file contents, and returns a list of strings, one element per file line."
   ]
  },
  {
   "cell_type": "code",
   "execution_count": 20,
   "metadata": {},
   "outputs": [
    {
     "name": "stdout",
     "output_type": "stream",
     "text": [
      "Beautiful is better than ugly.\n",
      "Explicit is better than implicit.\n",
      "Simple is better than complex.\n",
      "Complex is better than complicated.\n",
      "\n",
      "Characters in file: 131\n",
      "Lines in file:      4\n"
     ]
    }
   ],
   "source": [
    "from os import strerror\n",
    "\n",
    "try:\n",
    "    ccnt = lcnt = 0\n",
    "    s = open('text.txt', 'rt')\n",
    "    lines = s.readlines(20)\n",
    "    while len(lines) != 0:\n",
    "        for line in lines:\n",
    "            lcnt += 1\n",
    "            for ch in line:\n",
    "                print(ch, end='')\n",
    "                ccnt += 1\n",
    "        lines = s.readlines(10)\n",
    "    s.close()\n",
    "    print(\"\\n\\nCharacters in file:\", ccnt)\n",
    "    print(\"Lines in file:     \", lcnt)\n",
    "except IOError as e:\n",
    "    print(\"I/O error occurred:\", strerror(e.errno))\n",
    "    "
   ]
  },
  {
   "cell_type": "code",
   "execution_count": 24,
   "metadata": {},
   "outputs": [
    {
     "name": "stdout",
     "output_type": "stream",
     "text": [
      "Beautiful is better than ugly.\n",
      "Explicit is better than implicit.\n",
      "Simple is better than complex.\n",
      "Complex is better than complicated.\n",
      "\n",
      "Characters in file: 131\n",
      "Lines in file:      4\n"
     ]
    }
   ],
   "source": [
    "\"\"\"\n",
    "The open() method returns an iterable object \n",
    "which can be used to iterate through all the file's lines inside a for loop.\n",
    "The iteration protocol defined for the file object is very simple – \n",
    "its __next__ method just returns the next line read in from the file.\n",
    "\n",
    "Moreover, you can expect that the object automatically invokes close() \n",
    "when any of the file reads reaches the end of the file.\n",
    "\"\"\"\n",
    "\n",
    "from os import strerror\n",
    "\n",
    "try:\n",
    "\tccnt = lcnt = 0\n",
    "\tfor line in open('text.txt', 'rt'):\n",
    "\t\tlcnt += 1\n",
    "\t\tfor ch in line:\n",
    "\t\t\tprint(ch, end='')\n",
    "\t\t\tccnt += 1\n",
    "\tprint(\"\\n\\nCharacters in file:\", ccnt)\n",
    "\tprint(\"Lines in file:     \", lcnt)\n",
    "except IOError as e:\n",
    "\tprint(\"I/O error occurred: \", strerror(e.errno))\n"
   ]
  },
  {
   "cell_type": "markdown",
   "metadata": {},
   "source": [
    "##### write()\n",
    "\n",
    "The method is named write() and it expects just one argument – a string that will be transferred to an open file (don't forget – open mode should reflect the way in which the data is transferred – writing a file opened in read mode won't succeed)."
   ]
  },
  {
   "cell_type": "code",
   "execution_count": 25,
   "metadata": {},
   "outputs": [],
   "source": [
    "from os import strerror\n",
    "\n",
    "try:\n",
    "\tfile = open('newtext.txt', 'wt') # A new file (newtext.txt) is created.\n",
    "\tfor i in range(10):\n",
    "\t\ts = \"line #\" + str(i+1) + \"\\n\"\n",
    "\t\tfor char in s:\n",
    "\t\t\tfile.write(char)\n",
    "\tfile.close()\n",
    "except IOError as e:\n",
    "\tprint(\"I/O error occurred: \", strerror(e.errno))"
   ]
  },
  {
   "cell_type": "code",
   "execution_count": 26,
   "metadata": {},
   "outputs": [],
   "source": [
    "from os import strerror\n",
    "\n",
    "try:\n",
    "    file = open('newtext.txt', 'wt')\n",
    "    for i in range(10):\n",
    "        file.write(\"line #\" + str(i+1) + \"\\n\")\n",
    "    file.close()\n",
    "except IOError as e:\n",
    "    print(\"I/O error occurred: \", strerror(e.errno))\n",
    "    "
   ]
  },
  {
   "cell_type": "markdown",
   "metadata": {},
   "source": [
    "##### bytearray()\n",
    "\n",
    "Amorphous data is data which have no specific shape or form – they are just a series of bytes.\n",
    "Amorphous data cannot be stored using any of the previously presented means – they are neither strings nor lists.\n",
    "\n",
    "There should be a special container able to handle such data.\n",
    "\n",
    "Python has more than one such container – one of them is a specialized class name bytearray – as the name suggests, it's an array containing (amorphous) bytes."
   ]
  },
  {
   "cell_type": "code",
   "execution_count": 27,
   "metadata": {},
   "outputs": [
    {
     "name": "stdout",
     "output_type": "stream",
     "text": [
      "0xa\n",
      "0x9\n",
      "0x8\n",
      "0x7\n",
      "0x6\n",
      "0x5\n",
      "0x4\n",
      "0x3\n",
      "0x2\n",
      "0x1\n"
     ]
    }
   ],
   "source": [
    "data = bytearray(10)\n",
    "\n",
    "for i in range(len(data)):\n",
    "    data[i] = 10 - i\n",
    "\n",
    "for b in data:\n",
    "    print(hex(b))\n",
    "    "
   ]
  },
  {
   "cell_type": "code",
   "execution_count": 28,
   "metadata": {},
   "outputs": [],
   "source": [
    "from os import strerror\n",
    "\n",
    "data = bytearray(10)\n",
    "\n",
    "for i in range(len(data)):\n",
    "    data[i] = 10 + i\n",
    "\n",
    "try:\n",
    "    bf = open('file.bin', 'wb')\n",
    "    bf.write(data)\n",
    "    bf.close()\n",
    "except IOError as e:\n",
    "    print(\"I/O error occurred:\", strerror(e.errno))\n"
   ]
  },
  {
   "cell_type": "markdown",
   "metadata": {},
   "source": [
    "##### readinto()\n",
    "\n",
    "Reading from a binary file requires the use of a specialized method name readinto(), as the method doesn't create a new byte array object, but fills a previously created one with the values taken from the binary file.\n",
    "\n",
    "Note:\n",
    "\n",
    "the method returns the number of successfully read bytes;\n",
    "the method tries to fill the whole space available inside its argument; if there are more data in the file than space in the argument, the read operation will stop before the end of the file; otherwise, the method's result may indicate that the byte array has only been filled fragmentarily (the result will show you that, too, and the part of the array not being used by the newly read contents remains untouched)\n"
   ]
  },
  {
   "cell_type": "code",
   "execution_count": 29,
   "metadata": {},
   "outputs": [
    {
     "name": "stdout",
     "output_type": "stream",
     "text": [
      "0xa 0xb 0xc 0xd 0xe 0xf 0x10 0x11 0x12 0x13 "
     ]
    }
   ],
   "source": [
    "from os import strerror\n",
    "\n",
    "data = bytearray(10)\n",
    "\n",
    "try:\n",
    "    binary_file = open('file.bin', 'rb')\n",
    "    binary_file.readinto(data)\n",
    "    binary_file.close()\n",
    "\n",
    "    for b in data:\n",
    "        print(hex(b), end=' ')\n",
    "except IOError as e:\n",
    "    print(\"I/O error occurred:\", strerror(e.errno))"
   ]
  },
  {
   "cell_type": "markdown",
   "metadata": {},
   "source": [
    "##### read()\n",
    "An alternative way of reading the contents of a binary file is offered by the method named read().\n",
    "\n",
    "Invoked without arguments, it tries to read all the contents of the file into the memory, making them a part of a newly created object of the bytes class.\n",
    "\n",
    "This class has some similarities to bytearray, with the exception of one significant difference – it's immutable."
   ]
  },
  {
   "cell_type": "code",
   "execution_count": 30,
   "metadata": {},
   "outputs": [
    {
     "name": "stdout",
     "output_type": "stream",
     "text": [
      "0xa 0xb 0xc 0xd 0xe 0xf 0x10 0x11 0x12 0x13 "
     ]
    }
   ],
   "source": [
    "from os import strerror\n",
    "\n",
    "try:\n",
    "    binary_file = open('file.bin', 'rb')\n",
    "    data = bytearray(binary_file.read())\n",
    "    binary_file.close()\n",
    "\n",
    "    for b in data:\n",
    "        print(hex(b), end=' ')\n",
    "\n",
    "except IOError as e:\n",
    "    print(\"I/O error occurred:\", strerror(e.errno))\n",
    "    "
   ]
  },
  {
   "cell_type": "markdown",
   "metadata": {},
   "source": [
    "# OS Module\n",
    "\n",
    "- interact with the operating system using Python.\n"
   ]
  },
  {
   "cell_type": "code",
   "execution_count": 44,
   "metadata": {},
   "outputs": [
    {
     "name": "stdout",
     "output_type": "stream",
     "text": [
      "nt\n",
      "['my_first_directory_0', 'my_second_directory']\n",
      "c:\\Users\\nelso\\OneDrive\\Documents\\GitHub\\python-essentials\\notebooks\\my_first_directory\\my_first_directory_1\\my_first_directory_1\\my_first_directory_1\n",
      "['my_second_directory']\n"
     ]
    },
    {
     "ename": "FileNotFoundError",
     "evalue": "[WinError 2] The system cannot find the file specified: 'my_first_directory_1'",
     "output_type": "error",
     "traceback": [
      "\u001b[1;31m---------------------------------------------------------------------------\u001b[0m",
      "\u001b[1;31mFileNotFoundError\u001b[0m                         Traceback (most recent call last)",
      "Cell \u001b[1;32mIn[44], line 15\u001b[0m\n\u001b[0;32m     11\u001b[0m \u001b[38;5;28mprint\u001b[39m(os\u001b[38;5;241m.\u001b[39mlistdir())\n\u001b[0;32m     14\u001b[0m \u001b[38;5;66;03m# removing a directory\u001b[39;00m\n\u001b[1;32m---> 15\u001b[0m \u001b[43mos\u001b[49m\u001b[38;5;241;43m.\u001b[39;49m\u001b[43mrmdir\u001b[49m\u001b[43m(\u001b[49m\u001b[38;5;124;43m\"\u001b[39;49m\u001b[38;5;124;43mmy_first_directory_1\u001b[39;49m\u001b[38;5;124;43m\"\u001b[39;49m\u001b[43m)\u001b[49m\n\u001b[0;32m     16\u001b[0m \u001b[38;5;66;03m# to remove a directory and its subdirectories\u001b[39;00m\n\u001b[0;32m     17\u001b[0m os\u001b[38;5;241m.\u001b[39mmakedirs(\u001b[38;5;124m\"\u001b[39m\u001b[38;5;124mmy_first_directory_1/my_second_directory\u001b[39m\u001b[38;5;124m\"\u001b[39m)\n",
      "\u001b[1;31mFileNotFoundError\u001b[0m: [WinError 2] The system cannot find the file specified: 'my_first_directory_1'"
     ]
    }
   ],
   "source": [
    "import os\n",
    "\n",
    "print(os.name)\n",
    "\n",
    "os.mkdir(\"my_first_directory_0\")  \t# creating a directory, re-running this will cause an error\n",
    "print(os.listdir())\n",
    "\n",
    "os.makedirs(\"my_first_directory_1/my_second_directory\")\n",
    "print(os.getcwd())\n",
    "os.chdir(\"my_first_directory_1\")\n",
    "print(os.listdir())\n",
    "\n",
    "\n",
    "# removing a directory\n",
    "os.rmdir(\"my_first_directory_1\")\n",
    "# to remove a directory and its subdirectories\n",
    "os.makedirs(\"my_first_directory_1/my_second_directory\")\n",
    "os.removedirs(\"my_first_directory_1/my_second_directory\")"
   ]
  },
  {
   "cell_type": "code",
   "execution_count": 45,
   "metadata": {},
   "outputs": [
    {
     "name": "stdout",
     "output_type": "stream",
     "text": [
      "0\n"
     ]
    }
   ],
   "source": [
    "# using the os.system to run the commands directly\n",
    "\n",
    "import os\n",
    "\n",
    "returned_value = os.system(\"mkdir my_first_directory\")\n",
    "print(returned_value)"
   ]
  }
 ],
 "metadata": {
  "kernelspec": {
   "display_name": "Python 3",
   "language": "python",
   "name": "python3"
  },
  "language_info": {
   "codemirror_mode": {
    "name": "ipython",
    "version": 3
   },
   "file_extension": ".py",
   "mimetype": "text/x-python",
   "name": "python",
   "nbconvert_exporter": "python",
   "pygments_lexer": "ipython3",
   "version": "3.12.1"
  }
 },
 "nbformat": 4,
 "nbformat_minor": 2
}
